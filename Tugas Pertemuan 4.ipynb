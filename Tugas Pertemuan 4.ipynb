{
 "cells": [
  {
   "cell_type": "markdown",
   "metadata": {},
   "source": [
    "# Tugas\n",
    "\n",
    "1. Create a 2-D numpy array o shape (20, 1) in interval [0, 1] (1 is exclusive.\n",
    "2. Reshape that array into shape of (10, 2)\n",
    "3. Then create a new 2D array with the same shape and 2 times of the previous array\n",
    "4. Perform matric multiplication between those array such that the result will have a shape o (10, 10)\n",
    "5. Get the statistic summary (mean, median, variance, and standard deviation) from the resulted array for each columns."
   ]
  },
  {
   "cell_type": "markdown",
   "metadata": {},
   "source": [
    "## Import Numpy"
   ]
  },
  {
   "cell_type": "code",
   "execution_count": 2,
   "metadata": {},
   "outputs": [],
   "source": [
    "import numpy as np"
   ]
  },
  {
   "cell_type": "markdown",
   "metadata": {},
   "source": [
    "## 1"
   ]
  },
  {
   "cell_type": "code",
   "execution_count": 3,
   "metadata": {},
   "outputs": [
    {
     "name": "stdout",
     "output_type": "stream",
     "text": [
      "[[0.  ]\n",
      " [0.05]\n",
      " [0.1 ]\n",
      " [0.15]\n",
      " [0.2 ]\n",
      " [0.25]\n",
      " [0.3 ]\n",
      " [0.35]\n",
      " [0.4 ]\n",
      " [0.45]\n",
      " [0.5 ]\n",
      " [0.55]\n",
      " [0.6 ]\n",
      " [0.65]\n",
      " [0.7 ]\n",
      " [0.75]\n",
      " [0.8 ]\n",
      " [0.85]\n",
      " [0.9 ]\n",
      " [0.95]] (20, 1)\n"
     ]
    }
   ],
   "source": [
    "arr_tugas = np.arange(0, 1, 5e-2)[:, None]\n",
    "print (arr_tugas, arr_tugas.shape)"
   ]
  },
  {
   "cell_type": "markdown",
   "metadata": {},
   "source": [
    "## 2 "
   ]
  },
  {
   "cell_type": "code",
   "execution_count": 5,
   "metadata": {},
   "outputs": [
    {
     "name": "stdout",
     "output_type": "stream",
     "text": [
      "[[0.   0.05]\n",
      " [0.1  0.15]\n",
      " [0.2  0.25]\n",
      " [0.3  0.35]\n",
      " [0.4  0.45]\n",
      " [0.5  0.55]\n",
      " [0.6  0.65]\n",
      " [0.7  0.75]\n",
      " [0.8  0.85]\n",
      " [0.9  0.95]] (10, 2)\n"
     ]
    }
   ],
   "source": [
    "arr_tugas = arr_tugas.reshape(10,2)\n",
    "print(arr_tugas, arr_tugas.shape)"
   ]
  },
  {
   "cell_type": "markdown",
   "metadata": {},
   "source": [
    "## 3"
   ]
  },
  {
   "cell_type": "code",
   "execution_count": 6,
   "metadata": {},
   "outputs": [
    {
     "name": "stdout",
     "output_type": "stream",
     "text": [
      "[[0.  0.1]\n",
      " [0.2 0.3]\n",
      " [0.4 0.5]\n",
      " [0.6 0.7]\n",
      " [0.8 0.9]\n",
      " [1.  1.1]\n",
      " [1.2 1.3]\n",
      " [1.4 1.5]\n",
      " [1.6 1.7]\n",
      " [1.8 1.9]] (10, 2)\n"
     ]
    }
   ],
   "source": [
    "# arr_tugas2 = arr_tugas*2\n",
    "arr_tugas2 = arr_tugas.dot(2)\n",
    "print (arr_tugas2, arr_tugas2.shape)"
   ]
  },
  {
   "cell_type": "markdown",
   "metadata": {},
   "source": [
    "## 4"
   ]
  },
  {
   "cell_type": "code",
   "execution_count": 7,
   "metadata": {},
   "outputs": [
    {
     "name": "stdout",
     "output_type": "stream",
     "text": [
      "[[0.005 0.015 0.025 0.035 0.045 0.055 0.065 0.075 0.085 0.095]\n",
      " [0.015 0.065 0.115 0.165 0.215 0.265 0.315 0.365 0.415 0.465]\n",
      " [0.025 0.115 0.205 0.295 0.385 0.475 0.565 0.655 0.745 0.835]\n",
      " [0.035 0.165 0.295 0.425 0.555 0.685 0.815 0.945 1.075 1.205]\n",
      " [0.045 0.215 0.385 0.555 0.725 0.895 1.065 1.235 1.405 1.575]\n",
      " [0.055 0.265 0.475 0.685 0.895 1.105 1.315 1.525 1.735 1.945]\n",
      " [0.065 0.315 0.565 0.815 1.065 1.315 1.565 1.815 2.065 2.315]\n",
      " [0.075 0.365 0.655 0.945 1.235 1.525 1.815 2.105 2.395 2.685]\n",
      " [0.085 0.415 0.745 1.075 1.405 1.735 2.065 2.395 2.725 3.055]\n",
      " [0.095 0.465 0.835 1.205 1.575 1.945 2.315 2.685 3.055 3.425]] (10, 10)\n"
     ]
    }
   ],
   "source": [
    "arr_tugas3 = np.matmul (arr_tugas, arr_tugas2.T)\n",
    "print (arr_tugas3, arr_tugas3.shape)"
   ]
  },
  {
   "cell_type": "markdown",
   "metadata": {},
   "source": [
    "## 5"
   ]
  },
  {
   "cell_type": "code",
   "execution_count": 31,
   "metadata": {},
   "outputs": [
    {
     "name": "stdout",
     "output_type": "stream",
     "text": [
      "[0.05 0.24 0.43 0.62 0.81 1.   1.19 1.38 1.57 1.76]\n"
     ]
    }
   ],
   "source": [
    "arr_tugas_mean = arr_tugas3.mean(axis=0)\n",
    "print (arr_tugas_mean)"
   ]
  },
  {
   "cell_type": "code",
   "execution_count": 32,
   "metadata": {},
   "outputs": [
    {
     "name": "stdout",
     "output_type": "stream",
     "text": [
      "[0.05 0.24 0.43 0.62 0.81 1.   1.19 1.38 1.57 1.76]\n"
     ]
    }
   ],
   "source": [
    "arr_tugas_median = np.median (arr_tugas3, axis=0)\n",
    "print (arr_tugas_median)"
   ]
  },
  {
   "cell_type": "code",
   "execution_count": 33,
   "metadata": {},
   "outputs": [
    {
     "name": "stdout",
     "output_type": "stream",
     "text": [
      "[0.02872281 0.14361407 0.25850532 0.37339657 0.48828782 0.60317908\n",
      " 0.71807033 0.83296158 0.94785284 1.06274409]\n"
     ]
    }
   ],
   "source": [
    "arr_tugas_std = arr_tugas3.std(axis=0)\n",
    "print (arr_tugas_std)"
   ]
  },
  {
   "cell_type": "code",
   "execution_count": 34,
   "metadata": {},
   "outputs": [
    {
     "name": "stdout",
     "output_type": "stream",
     "text": [
      "[0.02872281 0.14361407 0.25850532 0.37339657 0.48828782 0.60317908\n",
      " 0.71807033 0.83296158 0.94785284 1.06274409]\n"
     ]
    }
   ],
   "source": [
    "print (arr_tugas3.std(axis=0))"
   ]
  },
  {
   "cell_type": "code",
   "execution_count": 36,
   "metadata": {},
   "outputs": [
    {
     "name": "stdout",
     "output_type": "stream",
     "text": [
      "[8.250000e-04 2.062500e-02 6.682500e-02 1.394250e-01 2.384250e-01\n",
      " 3.638250e-01 5.156250e-01 6.938250e-01 8.984250e-01 1.129425e+00]\n"
     ]
    }
   ],
   "source": [
    "arr_tugas_var = np.var(arr_tugas3, axis=0)\n",
    "print (arr_tugas_var)"
   ]
  },
  {
   "cell_type": "code",
   "execution_count": 37,
   "metadata": {},
   "outputs": [
    {
     "name": "stdout",
     "output_type": "stream",
     "text": [
      "[8.250000e-04 2.062500e-02 6.682500e-02 1.394250e-01 2.384250e-01\n",
      " 3.638250e-01 5.156250e-01 6.938250e-01 8.984250e-01 1.129425e+00]\n"
     ]
    }
   ],
   "source": [
    "print (arr_tugas3.var(axis=0))"
   ]
  }
 ],
 "metadata": {
  "kernelspec": {
   "display_name": "Python 3",
   "language": "python",
   "name": "python3"
  },
  "language_info": {
   "codemirror_mode": {
    "name": "ipython",
    "version": 3
   },
   "file_extension": ".py",
   "mimetype": "text/x-python",
   "name": "python",
   "nbconvert_exporter": "python",
   "pygments_lexer": "ipython3",
   "version": "3.8.5"
  }
 },
 "nbformat": 4,
 "nbformat_minor": 4
}
