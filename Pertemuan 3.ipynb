{
 "cells": [
  {
   "cell_type": "code",
   "execution_count": 1,
   "metadata": {},
   "outputs": [],
   "source": [
    "n = 10\n",
    "while n > 0:\n",
    "    if (n+1) % 3 == 0:\n",
    "        n -= 1\n",
    "        continue\n",
    "    elif n % 2 == 0:\n",
    "        print (n, \"is even\")\n",
    "    else:\n",
    "        print (n, \"is odd and not divisible by 3\")\n",
    "    n -= 1"
   ]
  },
  {
   "cell_type": "code",
   "execution_count": 2,
   "metadata": {},
   "outputs": [],
   "source": [
    "def myfunction (p, l):\n",
    "    \"Fungsi untuk menghitung luas\"\n",
    "    print (p * l)\n",
    "myfunction (5, 4)"
   ]
  },
  {
   "cell_type": "code",
   "execution_count": 3,
   "metadata": {},
   "outputs": [],
   "source": [
    "def say_hello(student):\n",
    "    \"Say Hello To Student.\"\n",
    "    print (f'Hello, {student}!')\n",
    "    print (f'Good Evening, {student}:)')\n",
    "\n",
    "def greet(greeting, student): #parameter\n",
    "    print (f'{greeting}, {student}!')\n",
    "    print (\"{}, {}!\".format(greeting,student))"
   ]
  },
  {
   "cell_type": "code",
   "execution_count": 4,
   "metadata": {},
   "outputs": [],
   "source": [
    "students = [\"Mirza\", \"Sony\", \"Rio\", \"Iqbal\", \"Arief\", \"Rina\", \"Joey\", \"Rizka\"]"
   ]
  },
  {
   "cell_type": "code",
   "execution_count": 45,
   "metadata": {
    "scrolled": true
   },
   "outputs": [
    {
     "name": "stdout",
     "output_type": "stream",
     "text": [
      "Hello, Mirza!\n",
      "Good Evening, Mirza:)\n",
      "Hello, Sony!\n",
      "Good Evening, Sony:)\n",
      "Hello, Rio!\n",
      "Good Evening, Rio:)\n",
      "Hello, Iqbal!\n",
      "Good Evening, Iqbal:)\n",
      "Hello, Arief!\n",
      "Good Evening, Arief:)\n",
      "Hello, Rina!\n",
      "Good Evening, Rina:)\n",
      "Hello, Joey!\n",
      "Good Evening, Joey:)\n",
      "Hello, Rizka!\n",
      "Good Evening, Rizka:)\n"
     ]
    }
   ],
   "source": [
    "for student in students:\n",
    "    say_hello(student)"
   ]
  },
  {
   "cell_type": "code",
   "execution_count": 6,
   "metadata": {},
   "outputs": [
    {
     "ename": "TypeError",
     "evalue": "greet() missing 2 required positional arguments: 'greeting' and 'student'",
     "output_type": "error",
     "traceback": [
      "\u001b[1;31m---------------------------------------------------------------------------\u001b[0m",
      "\u001b[1;31mTypeError\u001b[0m                                 Traceback (most recent call last)",
      "\u001b[1;32m<ipython-input-6-19a9527945c5>\u001b[0m in \u001b[0;36m<module>\u001b[1;34m\u001b[0m\n\u001b[1;32m----> 1\u001b[1;33m \u001b[0mgreet\u001b[0m \u001b[1;33m(\u001b[0m\u001b[1;33m)\u001b[0m\u001b[1;33m\u001b[0m\u001b[1;33m\u001b[0m\u001b[0m\n\u001b[0m",
      "\u001b[1;31mTypeError\u001b[0m: greet() missing 2 required positional arguments: 'greeting' and 'student'"
     ]
    }
   ],
   "source": [
    "greet ()"
   ]
  },
  {
   "cell_type": "code",
   "execution_count": null,
   "metadata": {},
   "outputs": [],
   "source": [
    "greet (\"Hi\")"
   ]
  },
  {
   "cell_type": "code",
   "execution_count": null,
   "metadata": {},
   "outputs": [],
   "source": [
    "greet (greeting = \"Hi\", student = \"Hacktiv8\")"
   ]
  },
  {
   "cell_type": "code",
   "execution_count": null,
   "metadata": {},
   "outputs": [],
   "source": [
    "greet(student = \"Hacktiv8\", greeting = \"Hi\")\n",
    "greet(\"Hacktiv8\", \"Hi\")"
   ]
  },
  {
   "cell_type": "code",
   "execution_count": 47,
   "metadata": {},
   "outputs": [
    {
     "ename": "TypeError",
     "evalue": "greet() missing 2 required positional arguments: 'greeting' and 'student'",
     "output_type": "error",
     "traceback": [
      "\u001b[1;31m---------------------------------------------------------------------------\u001b[0m",
      "\u001b[1;31mTypeError\u001b[0m                                 Traceback (most recent call last)",
      "\u001b[1;32m<ipython-input-47-db845682bfe7>\u001b[0m in \u001b[0;36m<module>\u001b[1;34m\u001b[0m\n\u001b[1;32m----> 1\u001b[1;33m \u001b[0mgreet\u001b[0m\u001b[1;33m(\u001b[0m\u001b[1;33m)\u001b[0m\u001b[1;33m\u001b[0m\u001b[1;33m\u001b[0m\u001b[0m\n\u001b[0m",
      "\u001b[1;31mTypeError\u001b[0m: greet() missing 2 required positional arguments: 'greeting' and 'student'"
     ]
    }
   ],
   "source": [
    "greet()"
   ]
  },
  {
   "cell_type": "code",
   "execution_count": 8,
   "metadata": {},
   "outputs": [],
   "source": [
    "def greet_all(greeting = \"Halo\", *Students):\n",
    "    print(greeting, students)\n",
    "    for student in students:\n",
    "        print(f\"{greeting}, {student}\")"
   ]
  },
  {
   "cell_type": "code",
   "execution_count": 50,
   "metadata": {},
   "outputs": [],
   "source": [
    "students = [\"Mirza\", \"Sony\", \"Rio\", \"Iqbal\", \"Arief\", \"Rina\", \"Joey\", \"Rizka\"]"
   ]
  },
  {
   "cell_type": "code",
   "execution_count": 13,
   "metadata": {
    "scrolled": true
   },
   "outputs": [
    {
     "name": "stdout",
     "output_type": "stream",
     "text": [
      "Halo ['Mirza', 'Sony', 'Rio', 'Iqbal', 'Arief', 'Rina', 'Joey', 'Rizka']\n",
      "Halo, Mirza\n",
      "Halo, Sony\n",
      "Halo, Rio\n",
      "Halo, Iqbal\n",
      "Halo, Arief\n",
      "Halo, Rina\n",
      "Halo, Joey\n",
      "Halo, Rizka\n",
      "Mirza ['Mirza', 'Sony', 'Rio', 'Iqbal', 'Arief', 'Rina', 'Joey', 'Rizka']\n",
      "Mirza, Mirza\n",
      "Mirza, Sony\n",
      "Mirza, Rio\n",
      "Mirza, Iqbal\n",
      "Mirza, Arief\n",
      "Mirza, Rina\n",
      "Mirza, Joey\n",
      "Mirza, Rizka\n",
      "Hello ['Mirza', 'Sony', 'Rio', 'Iqbal', 'Arief', 'Rina', 'Joey', 'Rizka']\n",
      "Hello, Mirza\n",
      "Hello, Sony\n",
      "Hello, Rio\n",
      "Hello, Iqbal\n",
      "Hello, Arief\n",
      "Hello, Rina\n",
      "Hello, Joey\n",
      "Hello, Rizka\n"
     ]
    }
   ],
   "source": [
    "greet_all ()\n",
    "greet_all (*students)\n",
    "greet_all (\"Hello\", *students)"
   ]
  },
  {
   "cell_type": "code",
   "execution_count": 4,
   "metadata": {},
   "outputs": [],
   "source": [
    "def print_simple_linear (a, b = .5, c = 0):\n",
    "    linear = b*a + c\n",
    "    print (linear)\n",
    "\n",
    "def return_simple_linear (a, b = .5, c = 0):\n",
    "    return b*a + c"
   ]
  },
  {
   "cell_type": "code",
   "execution_count": 20,
   "metadata": {},
   "outputs": [
    {
     "name": "stdout",
     "output_type": "stream",
     "text": [
      "1 [2, 3, 4]\n"
     ]
    }
   ],
   "source": [
    "a, *b = [1, 2, 3, 4]\n",
    "print (a, b) "
   ]
  },
  {
   "cell_type": "code",
   "execution_count": 10,
   "metadata": {},
   "outputs": [
    {
     "data": {
      "text/plain": [
       "210"
      ]
     },
     "execution_count": 10,
     "metadata": {},
     "output_type": "execute_result"
    }
   ],
   "source": [
    "compute = lambda b, c, a: b*a + c\n",
    "compute (c = 10, b=2, a=100)"
   ]
  },
  {
   "cell_type": "code",
   "execution_count": 5,
   "metadata": {},
   "outputs": [
    {
     "name": "stdout",
     "output_type": "stream",
     "text": [
      "5.0\n",
      "None\n",
      "==================================================\n",
      "50.0\n",
      "None\n"
     ]
    },
    {
     "ename": "TypeError",
     "evalue": "unsupported operand type(s) for ** or pow(): 'NoneType' and 'int'",
     "output_type": "error",
     "traceback": [
      "\u001b[1;31m---------------------------------------------------------------------------\u001b[0m",
      "\u001b[1;31mTypeError\u001b[0m                                 Traceback (most recent call last)",
      "\u001b[1;32m<ipython-input-5-ac8e49c929bf>\u001b[0m in \u001b[0;36m<module>\u001b[1;34m\u001b[0m\n\u001b[0;32m      4\u001b[0m \u001b[0mresult\u001b[0m \u001b[1;33m=\u001b[0m \u001b[0mprint_simple_linear\u001b[0m \u001b[1;33m(\u001b[0m\u001b[1;36m100\u001b[0m\u001b[1;33m)\u001b[0m\u001b[1;33m\u001b[0m\u001b[1;33m\u001b[0m\u001b[0m\n\u001b[0;32m      5\u001b[0m \u001b[0mprint\u001b[0m \u001b[1;33m(\u001b[0m\u001b[0mresult\u001b[0m\u001b[1;33m)\u001b[0m\u001b[1;33m\u001b[0m\u001b[1;33m\u001b[0m\u001b[0m\n\u001b[1;32m----> 6\u001b[1;33m \u001b[0mresult2\u001b[0m \u001b[1;33m=\u001b[0m \u001b[0mresult\u001b[0m\u001b[1;33m**\u001b[0m\u001b[1;36m2\u001b[0m\u001b[1;33m\u001b[0m\u001b[1;33m\u001b[0m\u001b[0m\n\u001b[0m",
      "\u001b[1;31mTypeError\u001b[0m: unsupported operand type(s) for ** or pow(): 'NoneType' and 'int'"
     ]
    }
   ],
   "source": [
    "result = print_simple_linear (10)\n",
    "print (result)\n",
    "print (\"=\"*50)\n",
    "result = print_simple_linear (100)\n",
    "print (result)\n",
    "result2 = result**2"
   ]
  },
  {
   "cell_type": "code",
   "execution_count": 6,
   "metadata": {},
   "outputs": [
    {
     "name": "stdout",
     "output_type": "stream",
     "text": [
      "50.0\n"
     ]
    }
   ],
   "source": [
    "result = return_simple_linear (100)\n",
    "print (result)"
   ]
  },
  {
   "cell_type": "code",
   "execution_count": 16,
   "metadata": {},
   "outputs": [],
   "source": [
    "def compute_all (d, e=0.5, f=0):\n",
    "    linear = e*d + f\n",
    "    linear2 = linear + result\n",
    "    return linear2"
   ]
  },
  {
   "cell_type": "code",
   "execution_count": 17,
   "metadata": {},
   "outputs": [
    {
     "name": "stdout",
     "output_type": "stream",
     "text": [
      "100\n",
      "==================================================\n",
      "100 0.5\n",
      "==================================================\n",
      "125.0\n"
     ]
    }
   ],
   "source": [
    "result = 100\n",
    "compute = lambda e, f, d:e*d + f\n",
    "compute (f=10, e=2, d=100)\n",
    "\n",
    "print (result)\n",
    "print (\"=\"*50)\n",
    "result2 = compute (50, 0.5, 0)\n",
    "print (result, result2)\n",
    "print (\"=\"*50)\n",
    "result = compute_all (50)\n",
    "print (result)"
   ]
  }
 ],
 "metadata": {
  "kernelspec": {
   "display_name": "Python 3",
   "language": "python",
   "name": "python3"
  },
  "language_info": {
   "codemirror_mode": {
    "name": "ipython",
    "version": 3
   },
   "file_extension": ".py",
   "mimetype": "text/x-python",
   "name": "python",
   "nbconvert_exporter": "python",
   "pygments_lexer": "ipython3",
   "version": "3.8.3"
  }
 },
 "nbformat": 4,
 "nbformat_minor": 4
}
