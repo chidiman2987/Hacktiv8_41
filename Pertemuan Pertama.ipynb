{
 "cells": [
  {
   "cell_type": "code",
   "execution_count": 4,
   "metadata": {},
   "outputs": [
    {
     "data": {
      "text/plain": [
       "\"wheter you think you can, or you think you can't--you're right\""
      ]
     },
     "execution_count": 4,
     "metadata": {},
     "output_type": "execute_result"
    }
   ],
   "source": [
    "# Tugas\n",
    "ford_quote = 'wheter you think you can, or you think you can\\'t--you\\'re right'\n",
    "ford_quote"
   ]
  },
  {
   "cell_type": "code",
   "execution_count": 6,
   "metadata": {},
   "outputs": [
    {
     "name": "stdout",
     "output_type": "stream",
     "text": [
      "[]\n",
      "[2, 3, 4, 5, 6]\n"
     ]
    }
   ],
   "source": [
    "mylist = [1, 2, 3, 4, 5, 6, 7]\n",
    "print (mylist[-1:-6])\n",
    "print (mylist[-6:-1])"
   ]
  },
  {
   "cell_type": "code",
   "execution_count": 7,
   "metadata": {},
   "outputs": [
    {
     "name": "stdout",
     "output_type": "stream",
     "text": [
      "[7, 6, 5, 4, 3, 2, 1]\n"
     ]
    }
   ],
   "source": [
    "mylist = [1, 2, 3, 4, 5, 6, 7]\n",
    "print (mylist[-1::-1])"
   ]
  },
  {
   "cell_type": "code",
   "execution_count": 8,
   "metadata": {},
   "outputs": [
    {
     "name": "stdout",
     "output_type": "stream",
     "text": [
      "[7, 6, 5, 4, 3, 2, 1]\n"
     ]
    }
   ],
   "source": [
    "mylist = [1, 2, 3, 4, 5, 6, 7]\n",
    "print (mylist[::-1])"
   ]
  },
  {
   "cell_type": "code",
   "execution_count": 1,
   "metadata": {},
   "outputs": [
    {
     "name": "stdout",
     "output_type": "stream",
     "text": [
      "10\n",
      "<class 'int'>\n",
      "11\n",
      "<class 'int'>\n"
     ]
    }
   ],
   "source": [
    "# Belajar Integer\n",
    "print (10)\n",
    "print (type(10))\n",
    "\n",
    "print (10+1)\n",
    "print (type(10+1))"
   ]
  },
  {
   "cell_type": "code",
   "execution_count": 4,
   "metadata": {},
   "outputs": [
    {
     "name": "stdout",
     "output_type": "stream",
     "text": [
      "4.2\n",
      "<class 'float'>\n",
      "4.0\n",
      "<class 'float'>\n",
      "0.2\n",
      "<class 'float'>\n",
      "4000000.0\n",
      "<class 'float'>\n",
      "0.00042\n",
      "<class 'float'>\n"
     ]
    }
   ],
   "source": [
    "# Belajar Float\n",
    "print (4.2)\n",
    "print (type(4.2))\n",
    "print (4.)\n",
    "print (type(4.))\n",
    "print (.2)\n",
    "print (type(.2))\n",
    "print (.4e7)\n",
    "print (type(.4e7))\n",
    "print (4.2e-4)\n",
    "print (type(4.2e-4))"
   ]
  },
  {
   "cell_type": "code",
   "execution_count": 12,
   "metadata": {},
   "outputs": [
    {
     "name": "stdout",
     "output_type": "stream",
     "text": [
      "Hacktiv8\n",
      "<class 'str'>\n",
      "hacktiv8\n",
      "<class 'str'>\n",
      "Hacktiv8\n",
      "<class 'str'>\n",
      "Hacktiv8\n",
      "<class 'str'>\n",
      "Hacktiv8\n",
      "<class 'str'>\n"
     ]
    }
   ],
   "source": [
    "# Belajar String\n",
    "print ('Hacktiv8')\n",
    "print (type('Hacktiv8'))\n",
    "print ('hacktiv8')\n",
    "print (type('hacktiv8'))\n",
    "print (\"Hacktiv8\")\n",
    "print (type(\"Hacktiv8\"))\n",
    "print ('''Hacktiv8''')\n",
    "print (type('''Hacktiv8'''))\n",
    "print (\"\"\"Hacktiv8\"\"\")\n",
    "print (type(\"\"\"Hacktiv8\"\"\"))"
   ]
  },
  {
   "cell_type": "code",
   "execution_count": 17,
   "metadata": {},
   "outputs": [
    {
     "name": "stdout",
     "output_type": "stream",
     "text": [
      "This string is contain a single quote (') character.\n",
      "<class 'str'>\n",
      "This string is contain a doube quote (\") character.\n",
      "<class 'str'>\n"
     ]
    }
   ],
   "source": [
    "print (\"This string is contain a single quote (') character.\")\n",
    "print (type(\"This string is contain a single quote (') character.\"))\n",
    "print ('This string is contain a doube quote (\") character.')\n",
    "print (type('This string is contain a doube quote (\") character.'))"
   ]
  },
  {
   "cell_type": "code",
   "execution_count": 7,
   "metadata": {},
   "outputs": [
    {
     "name": "stdout",
     "output_type": "stream",
     "text": [
      "<class 'bool'>\n",
      "<class 'bool'>\n",
      "False\n",
      "<class 'bool'>\n"
     ]
    }
   ],
   "source": [
    "# Belajar Boolean (Type, Context, dan Truthiness)\n",
    "print (type(True))\n",
    "print (type(False))\n",
    "print ('Hacktiv8' == 'hacktiv8')\n",
    "print (type('Hacktiv8' == 'hacktiv8'))"
   ]
  },
  {
   "cell_type": "code",
   "execution_count": 11,
   "metadata": {},
   "outputs": [
    {
     "name": "stdout",
     "output_type": "stream",
     "text": [
      "301\n",
      "<class 'int'>\n",
      "True\n",
      "<class 'bool'>\n"
     ]
    }
   ],
   "source": [
    "# Belajar Variable Assignment\n",
    "n=300\n",
    "print (n+1)\n",
    "print (type(n+1))\n",
    "print (301 == n+1)\n",
    "print (type(301 == n+1))"
   ]
  },
  {
   "cell_type": "code",
   "execution_count": 17,
   "metadata": {},
   "outputs": [
    {
     "name": "stdout",
     "output_type": "stream",
     "text": [
      "1000\n",
      "<class 'int'>\n",
      "0\n",
      "<class 'int'>\n",
      "250000\n",
      "<class 'int'>\n",
      "1.0\n",
      "<class 'float'>\n",
      "0\n",
      "<class 'int'>\n",
      "True\n",
      "<class 'bool'>\n",
      "False\n",
      "<class 'bool'>\n"
     ]
    }
   ],
   "source": [
    "a = b = 500\n",
    "print (a+b)\n",
    "print (type(a+b))\n",
    "print (a-b)\n",
    "print (type(a-b))\n",
    "print (a*b)\n",
    "print (type(a*b))\n",
    "print (a/b)\n",
    "print (type(a/b))\n",
    "print (a%b)\n",
    "print (type(a%b))\n",
    "print(a+b == a+b)\n",
    "print (type(a+b == a+b))\n",
    "print (a+b == a-b)\n",
    "print (type(a+b == a-b))"
   ]
  },
  {
   "cell_type": "code",
   "execution_count": 46,
   "metadata": {},
   "outputs": [
    {
     "name": "stdout",
     "output_type": "stream",
     "text": [
      "30\n",
      "155\n",
      "0\n",
      "True\n",
      "<class 'bool'>\n",
      "35\n"
     ]
    }
   ],
   "source": [
    "a = 5\n",
    "b = 10\n",
    "c = 15\n",
    "print (a+b+c)\n",
    "print (a+b*c)\n",
    "print (a+b-c)\n",
    "print (a+b == c)\n",
    "print (type(a+b == c))\n",
    "print (a*b-c)"
   ]
  },
  {
   "cell_type": "code",
   "execution_count": 45,
   "metadata": {},
   "outputs": [
    {
     "name": "stdout",
     "output_type": "stream",
     "text": [
      "22 5 7 10\n",
      "<class 'int'>\n",
      "<class 'int'>\n",
      "<class 'int'>\n",
      "<class 'int'>\n"
     ]
    },
    {
     "ename": "TypeError",
     "evalue": "type() takes 1 or 3 arguments",
     "output_type": "error",
     "traceback": [
      "\u001b[1;31m---------------------------------------------------------------------------\u001b[0m",
      "\u001b[1;31mTypeError\u001b[0m                                 Traceback (most recent call last)",
      "\u001b[1;32m<ipython-input-45-3186c3260941>\u001b[0m in \u001b[0;36m<module>\u001b[1;34m\u001b[0m\n\u001b[0;32m      9\u001b[0m \u001b[0mprint\u001b[0m \u001b[1;33m(\u001b[0m\u001b[0mtype\u001b[0m\u001b[1;33m(\u001b[0m\u001b[0mseorang\u001b[0m\u001b[1;33m)\u001b[0m\u001b[1;33m)\u001b[0m\u001b[1;33m\u001b[0m\u001b[1;33m\u001b[0m\u001b[0m\n\u001b[0;32m     10\u001b[0m \u001b[0mprint\u001b[0m \u001b[1;33m(\u001b[0m\u001b[0mtype\u001b[0m\u001b[1;33m(\u001b[0m\u001b[0mkapiten\u001b[0m\u001b[1;33m)\u001b[0m\u001b[1;33m)\u001b[0m\u001b[1;33m\u001b[0m\u001b[1;33m\u001b[0m\u001b[0m\n\u001b[1;32m---> 11\u001b[1;33m \u001b[0mprint\u001b[0m \u001b[1;33m(\u001b[0m\u001b[0mtype\u001b[0m\u001b[1;33m(\u001b[0m\u001b[0maku\u001b[0m\u001b[1;33m,\u001b[0m \u001b[0madalah\u001b[0m\u001b[1;33m,\u001b[0m \u001b[0mseorang\u001b[0m\u001b[1;33m,\u001b[0m \u001b[0mkapiten\u001b[0m\u001b[1;33m)\u001b[0m\u001b[1;33m)\u001b[0m\u001b[1;33m\u001b[0m\u001b[1;33m\u001b[0m\u001b[0m\n\u001b[0m",
      "\u001b[1;31mTypeError\u001b[0m: type() takes 1 or 3 arguments"
     ]
    }
   ],
   "source": [
    "# Belajar Variabel\n",
    "aku = 22\n",
    "adalah = 5\n",
    "seorang = 7\n",
    "kapiten = 10\n",
    "print (aku, adalah, seorang, kapiten)\n",
    "print (type(aku))\n",
    "print (type(adalah))\n",
    "print (type(seorang))\n",
    "print (type(kapiten))\n",
    "print (type(aku, adalah, seorang, kapiten))"
   ]
  },
  {
   "cell_type": "code",
   "execution_count": 50,
   "metadata": {},
   "outputs": [
    {
     "name": "stdout",
     "output_type": "stream",
     "text": [
      "7\n",
      "<class 'int'>\n",
      "3\n",
      "<class 'int'>\n",
      "10\n",
      "<class 'int'>\n",
      "2.5\n",
      "<class 'float'>\n",
      "1\n",
      "<class 'int'>\n",
      "25\n",
      "<class 'int'>\n"
     ]
    }
   ],
   "source": [
    "# Arithmetic Operators\n",
    "d = 5\n",
    "e = 2\n",
    "print (d+e)\n",
    "print (type(d+e))\n",
    "print (d-e)\n",
    "print (type(d-e))\n",
    "print (d*e)\n",
    "print (type(d*e))\n",
    "print (d/e)\n",
    "print (type(d/e))\n",
    "print (d%e)\n",
    "print (type(d%e))\n",
    "print (d**e)\n",
    "print (type(d**e))"
   ]
  },
  {
   "cell_type": "code",
   "execution_count": 57,
   "metadata": {
    "scrolled": true
   },
   "outputs": [
    {
     "name": "stdout",
     "output_type": "stream",
     "text": [
      "True\n",
      "<class 'bool'>\n",
      "False\n",
      "True\n",
      "True\n"
     ]
    }
   ],
   "source": [
    "# Comparison Operators\n",
    "f = 20\n",
    "g = 20\n",
    "print (f == g)\n",
    "print (type(f == g))\n",
    "print (f != g)\n",
    "print (f <= g)\n",
    "print (f >= g)"
   ]
  },
  {
   "cell_type": "code",
   "execution_count": 14,
   "metadata": {},
   "outputs": [
    {
     "name": "stdout",
     "output_type": "stream",
     "text": [
      "('foo', 'bar', 'baz', 'quux') <class 'tuple'>\n"
     ]
    },
    {
     "data": {
      "text/plain": [
       "('quux', 'baz', 'bar', 'foo')"
      ]
     },
     "execution_count": 14,
     "metadata": {},
     "output_type": "execute_result"
    }
   ],
   "source": [
    "# Belajar Tuples\n",
    "mytuple = (\"foo\", \"bar\", \"baz\", \"quux\")\n",
    "print (mytuple, type(mytuple))\n",
    "mytuple[::-1]"
   ]
  },
  {
   "cell_type": "code",
   "execution_count": 15,
   "metadata": {},
   "outputs": [
    {
     "name": "stdout",
     "output_type": "stream",
     "text": [
      "quux\n",
      "foo 2 baz quux\n"
     ]
    }
   ],
   "source": [
    "# Belajar Packing\n",
    "S1, S2, S3, S4 = (\"foo\", \"bar\", \"baz\", \"quux\")\n",
    "print (S4)\n",
    "print (S1, 2, S3, S4)"
   ]
  },
  {
   "cell_type": "code",
   "execution_count": 16,
   "metadata": {},
   "outputs": [
    {
     "name": "stdout",
     "output_type": "stream",
     "text": [
      "baz quux\n"
     ]
    }
   ],
   "source": [
    "T1, T2, T3, T4 = mytuple\n",
    "print (T3, T4)"
   ]
  },
  {
   "cell_type": "code",
   "execution_count": 18,
   "metadata": {},
   "outputs": [
    {
     "name": "stdout",
     "output_type": "stream",
     "text": [
      "foo bar ['baz', 'quux'] <class 'str'> <class 'list'>\n"
     ]
    }
   ],
   "source": [
    "T1, T2, *T3 = mytuple ##asterisk untuk masukkan sisa variabel ke variabel sebelumnya\n",
    "print (T1, T2, T3, type(T1), type(T3))"
   ]
  },
  {
   "cell_type": "code",
   "execution_count": 21,
   "metadata": {},
   "outputs": [
    {
     "name": "stdout",
     "output_type": "stream",
     "text": [
      "[1, 2, 3, 4, 5, 6] 7 <class 'list'> <class 'int'>\n",
      "1 [2, 3, 4, 5] 6 7 <class 'int'> <class 'list'>\n"
     ]
    }
   ],
   "source": [
    "*T1, T2 = mylist\n",
    "print (T1, T2, type(T1), type(T2))\n",
    "T1, *T2, T3, T4 = mylist\n",
    "print (T1, T2, T3, T4, type(T1), type(T2))"
   ]
  },
  {
   "cell_type": "code",
   "execution_count": 28,
   "metadata": {},
   "outputs": [
    {
     "name": "stdout",
     "output_type": "stream",
     "text": [
      "{'Colorado': 'Rockies', 'Boston': 'Red Sox', 'Minnesota': 'Twin', 'Milwaukee': 'Brewers', 'Seattle': 'Mariners', 'New York': ['Mets', 'Black']} <class 'dict'>\n",
      "Rockies\n",
      "Red Sox\n",
      "Twin\n",
      "Brewers\n",
      "Mariners\n",
      "['Mets', 'Black']\n"
     ]
    }
   ],
   "source": [
    "# Belajar Dictionary\n",
    "MLB_Team = {\n",
    "    'Colorado': 'Rockies',\n",
    "    'Boston': 'Red Sox',\n",
    "    'Minnesota': 'Twin',\n",
    "    'Milwaukee': 'Brewers',\n",
    "    'Seattle': 'Mariners',\n",
    "    'New York': ['Mets', 'Black']\n",
    "}\n",
    "print (MLB_Team, type(MLB_Team))\n",
    "print (MLB_Team['Colorado'])\n",
    "print (MLB_Team['Boston'])\n",
    "print (MLB_Team['Minnesota'])\n",
    "print (MLB_Team['Milwaukee'])\n",
    "print (MLB_Team['Seattle'])\n",
    "print (MLB_Team['New York'])"
   ]
  },
  {
   "cell_type": "code",
   "execution_count": 39,
   "metadata": {},
   "outputs": [
    {
     "name": "stdout",
     "output_type": "stream",
     "text": [
      "dict_keys(['Colorado', 'Boston', 'Minnesota', 'Milwaukee', 'Seattle', 'New York'])\n",
      "['Colorado', 'Boston', 'Minnesota', 'Milwaukee', 'Seattle', 'New York']\n"
     ]
    }
   ],
   "source": [
    "print (MLB_Team.keys())\n",
    "print (list(MLB_Team.keys()))"
   ]
  },
  {
   "cell_type": "code",
   "execution_count": 40,
   "metadata": {},
   "outputs": [
    {
     "name": "stdout",
     "output_type": "stream",
     "text": [
      "dict_values(['Rockies', 'Red Sox', 'Twin', 'Brewers', 'Mariners', ['Mets', 'Black']])\n",
      "['Rockies', 'Red Sox', 'Twin', 'Brewers', 'Mariners', ['Mets', 'Black']]\n"
     ]
    }
   ],
   "source": [
    "print (MLB_Team.values())\n",
    "print (list(MLB_Team.values()))"
   ]
  },
  {
   "cell_type": "code",
   "execution_count": 41,
   "metadata": {},
   "outputs": [
    {
     "name": "stdout",
     "output_type": "stream",
     "text": [
      "dict_items([('Colorado', 'Rockies'), ('Boston', 'Red Sox'), ('Minnesota', 'Twin'), ('Milwaukee', 'Brewers'), ('Seattle', 'Mariners'), ('New York', ['Mets', 'Black'])])\n",
      "[('Colorado', 'Rockies'), ('Boston', 'Red Sox'), ('Minnesota', 'Twin'), ('Milwaukee', 'Brewers'), ('Seattle', 'Mariners'), ('New York', ['Mets', 'Black'])]\n"
     ]
    }
   ],
   "source": [
    "print (MLB_Team.items())\n",
    "print (list(MLB_Team.items()))"
   ]
  }
 ],
 "metadata": {
  "kernelspec": {
   "display_name": "Python 3",
   "language": "python",
   "name": "python3"
  },
  "language_info": {
   "codemirror_mode": {
    "name": "ipython",
    "version": 3
   },
   "file_extension": ".py",
   "mimetype": "text/x-python",
   "name": "python",
   "nbconvert_exporter": "python",
   "pygments_lexer": "ipython3",
   "version": "3.8.3"
  }
 },
 "nbformat": 4,
 "nbformat_minor": 4
}
