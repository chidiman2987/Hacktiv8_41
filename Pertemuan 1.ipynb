{
 "cells": [
  {
   "cell_type": "code",
   "execution_count": 1,
   "metadata": {},
   "outputs": [
    {
     "name": "stdout",
     "output_type": "stream",
     "text": [
      "10\n",
      "<class 'int'>\n",
      "11\n",
      "<class 'int'>\n"
     ]
    }
   ],
   "source": [
    "# Belajar Integer\n",
    "print (10)\n",
    "print (type(10))\n",
    "\n",
    "print (10+1)\n",
    "print (type(10+1))"
   ]
  },
  {
   "cell_type": "code",
   "execution_count": 4,
   "metadata": {},
   "outputs": [
    {
     "name": "stdout",
     "output_type": "stream",
     "text": [
      "4.2\n",
      "<class 'float'>\n",
      "4.0\n",
      "<class 'float'>\n",
      "0.2\n",
      "<class 'float'>\n",
      "4000000.0\n",
      "<class 'float'>\n",
      "0.00042\n",
      "<class 'float'>\n"
     ]
    }
   ],
   "source": [
    "# Belajar Float\n",
    "print (4.2)\n",
    "print (type(4.2))\n",
    "print (4.)\n",
    "print (type(4.))\n",
    "print (.2)\n",
    "print (type(.2))\n",
    "print (.4e7)\n",
    "print (type(.4e7))\n",
    "print (4.2e-4)\n",
    "print (type(4.2e-4))"
   ]
  },
  {
   "cell_type": "code",
   "execution_count": 12,
   "metadata": {},
   "outputs": [
    {
     "name": "stdout",
     "output_type": "stream",
     "text": [
      "Hacktiv8\n",
      "<class 'str'>\n",
      "hacktiv8\n",
      "<class 'str'>\n",
      "Hacktiv8\n",
      "<class 'str'>\n",
      "Hacktiv8\n",
      "<class 'str'>\n",
      "Hacktiv8\n",
      "<class 'str'>\n"
     ]
    }
   ],
   "source": [
    "# Belajar String\n",
    "print ('Hacktiv8')\n",
    "print (type('Hacktiv8'))\n",
    "print ('hacktiv8')\n",
    "print (type('hacktiv8'))\n",
    "print (\"Hacktiv8\")\n",
    "print (type(\"Hacktiv8\"))\n",
    "print ('''Hacktiv8''')\n",
    "print (type('''Hacktiv8'''))\n",
    "print (\"\"\"Hacktiv8\"\"\")\n",
    "print (type(\"\"\"Hacktiv8\"\"\"))"
   ]
  },
  {
   "cell_type": "code",
   "execution_count": 17,
   "metadata": {},
   "outputs": [
    {
     "name": "stdout",
     "output_type": "stream",
     "text": [
      "This string is contain a single quote (') character.\n",
      "<class 'str'>\n",
      "This string is contain a doube quote (\") character.\n",
      "<class 'str'>\n"
     ]
    }
   ],
   "source": [
    "print (\"This string is contain a single quote (') character.\")\n",
    "print (type(\"This string is contain a single quote (') character.\"))\n",
    "print ('This string is contain a doube quote (\") character.')\n",
    "print (type('This string is contain a doube quote (\") character.'))"
   ]
  },
  {
   "cell_type": "code",
   "execution_count": 7,
   "metadata": {},
   "outputs": [
    {
     "name": "stdout",
     "output_type": "stream",
     "text": [
      "<class 'bool'>\n",
      "<class 'bool'>\n",
      "False\n",
      "<class 'bool'>\n"
     ]
    }
   ],
   "source": [
    "# Belajar Boolean (Type, Context, dan Truthiness)\n",
    "print (type(True))\n",
    "print (type(False))\n",
    "print ('Hacktiv8' == 'hacktiv8')\n",
    "print (type('Hacktiv8' == 'hacktiv8'))"
   ]
  },
  {
   "cell_type": "code",
   "execution_count": 11,
   "metadata": {},
   "outputs": [
    {
     "name": "stdout",
     "output_type": "stream",
     "text": [
      "301\n",
      "<class 'int'>\n",
      "True\n",
      "<class 'bool'>\n"
     ]
    }
   ],
   "source": [
    "# Belajar Variable Assignment\n",
    "n=300\n",
    "print (n+1)\n",
    "print (type(n+1))\n",
    "print (301 == n+1)\n",
    "print (type(301 == n+1))"
   ]
  },
  {
   "cell_type": "code",
   "execution_count": 17,
   "metadata": {},
   "outputs": [
    {
     "name": "stdout",
     "output_type": "stream",
     "text": [
      "1000\n",
      "<class 'int'>\n",
      "0\n",
      "<class 'int'>\n",
      "250000\n",
      "<class 'int'>\n",
      "1.0\n",
      "<class 'float'>\n",
      "0\n",
      "<class 'int'>\n",
      "True\n",
      "<class 'bool'>\n",
      "False\n",
      "<class 'bool'>\n"
     ]
    }
   ],
   "source": [
    "a = b = 500\n",
    "print (a+b)\n",
    "print (type(a+b))\n",
    "print (a-b)\n",
    "print (type(a-b))\n",
    "print (a*b)\n",
    "print (type(a*b))\n",
    "print (a/b)\n",
    "print (type(a/b))\n",
    "print (a%b)\n",
    "print (type(a%b))\n",
    "print(a+b == a+b)\n",
    "print (type(a+b == a+b))\n",
    "print (a+b == a-b)\n",
    "print (type(a+b == a-b))"
   ]
  },
  {
   "cell_type": "code",
   "execution_count": 46,
   "metadata": {},
   "outputs": [
    {
     "name": "stdout",
     "output_type": "stream",
     "text": [
      "30\n",
      "155\n",
      "0\n",
      "True\n",
      "<class 'bool'>\n",
      "35\n"
     ]
    }
   ],
   "source": [
    "a = 5\n",
    "b = 10\n",
    "c = 15\n",
    "print (a+b+c)\n",
    "print (a+b*c)\n",
    "print (a+b-c)\n",
    "print (a+b == c)\n",
    "print (type(a+b == c))\n",
    "print (a*b-c)"
   ]
  },
  {
   "cell_type": "code",
   "execution_count": 45,
   "metadata": {},
   "outputs": [
    {
     "name": "stdout",
     "output_type": "stream",
     "text": [
      "22 5 7 10\n",
      "<class 'int'>\n",
      "<class 'int'>\n",
      "<class 'int'>\n",
      "<class 'int'>\n"
     ]
    },
    {
     "ename": "TypeError",
     "evalue": "type() takes 1 or 3 arguments",
     "output_type": "error",
     "traceback": [
      "\u001b[1;31m---------------------------------------------------------------------------\u001b[0m",
      "\u001b[1;31mTypeError\u001b[0m                                 Traceback (most recent call last)",
      "\u001b[1;32m<ipython-input-45-3186c3260941>\u001b[0m in \u001b[0;36m<module>\u001b[1;34m\u001b[0m\n\u001b[0;32m      9\u001b[0m \u001b[0mprint\u001b[0m \u001b[1;33m(\u001b[0m\u001b[0mtype\u001b[0m\u001b[1;33m(\u001b[0m\u001b[0mseorang\u001b[0m\u001b[1;33m)\u001b[0m\u001b[1;33m)\u001b[0m\u001b[1;33m\u001b[0m\u001b[1;33m\u001b[0m\u001b[0m\n\u001b[0;32m     10\u001b[0m \u001b[0mprint\u001b[0m \u001b[1;33m(\u001b[0m\u001b[0mtype\u001b[0m\u001b[1;33m(\u001b[0m\u001b[0mkapiten\u001b[0m\u001b[1;33m)\u001b[0m\u001b[1;33m)\u001b[0m\u001b[1;33m\u001b[0m\u001b[1;33m\u001b[0m\u001b[0m\n\u001b[1;32m---> 11\u001b[1;33m \u001b[0mprint\u001b[0m \u001b[1;33m(\u001b[0m\u001b[0mtype\u001b[0m\u001b[1;33m(\u001b[0m\u001b[0maku\u001b[0m\u001b[1;33m,\u001b[0m \u001b[0madalah\u001b[0m\u001b[1;33m,\u001b[0m \u001b[0mseorang\u001b[0m\u001b[1;33m,\u001b[0m \u001b[0mkapiten\u001b[0m\u001b[1;33m)\u001b[0m\u001b[1;33m)\u001b[0m\u001b[1;33m\u001b[0m\u001b[1;33m\u001b[0m\u001b[0m\n\u001b[0m",
      "\u001b[1;31mTypeError\u001b[0m: type() takes 1 or 3 arguments"
     ]
    }
   ],
   "source": [
    "# Belajar Variabel\n",
    "aku = 22\n",
    "adalah = 5\n",
    "seorang = 7\n",
    "kapiten = 10\n",
    "print (aku, adalah, seorang, kapiten)\n",
    "print (type(aku))\n",
    "print (type(adalah))\n",
    "print (type(seorang))\n",
    "print (type(kapiten))\n",
    "print (type(aku, adalah, seorang, kapiten))"
   ]
  },
  {
   "cell_type": "code",
   "execution_count": 50,
   "metadata": {},
   "outputs": [
    {
     "name": "stdout",
     "output_type": "stream",
     "text": [
      "7\n",
      "<class 'int'>\n",
      "3\n",
      "<class 'int'>\n",
      "10\n",
      "<class 'int'>\n",
      "2.5\n",
      "<class 'float'>\n",
      "1\n",
      "<class 'int'>\n",
      "25\n",
      "<class 'int'>\n"
     ]
    }
   ],
   "source": [
    "# Arithmetic Operators\n",
    "d = 5\n",
    "e = 2\n",
    "print (d+e)\n",
    "print (type(d+e))\n",
    "print (d-e)\n",
    "print (type(d-e))\n",
    "print (d*e)\n",
    "print (type(d*e))\n",
    "print (d/e)\n",
    "print (type(d/e))\n",
    "print (d%e)\n",
    "print (type(d%e))\n",
    "print (d**e)\n",
    "print (type(d**e))"
   ]
  },
  {
   "cell_type": "code",
   "execution_count": 57,
   "metadata": {},
   "outputs": [
    {
     "name": "stdout",
     "output_type": "stream",
     "text": [
      "True\n",
      "<class 'bool'>\n",
      "False\n",
      "True\n",
      "True\n"
     ]
    }
   ],
   "source": [
    "# Comparison Operators\n",
    "f = 20\n",
    "g = 20\n",
    "print (f == g)\n",
    "print (type(f == g))\n",
    "print (f != g)\n",
    "print (f <= g)\n",
    "print (f >= g)"
   ]
  },
  {
   "cell_type": "code",
   "execution_count": 12,
   "metadata": {},
   "outputs": [
    {
     "name": "stdout",
     "output_type": "stream",
     "text": [
      "Foo Bar <class 'str'>\n",
      "Foo Bar Baz  <class 'str'>\n",
      "True\n",
      "False\n",
      "True\n"
     ]
    }
   ],
   "source": [
    "# String Manipulation\n",
    "# + Operators\n",
    "s = 'Foo'\n",
    "t = 'Bar'\n",
    "u = 'Baz'\n",
    "\n",
    "print (s+' '+t, type(s+' '+t))\n",
    "print (s+' '+t+' '+u+' ', type(s+' '+t+' '+u+' '))\n",
    "\n",
    "print (s in 'That Food good for us')\n",
    "print (t in 'That Food good for us')\n",
    "print (t in 'This Bar is thick')"
   ]
  },
  {
   "cell_type": "code",
   "execution_count": 14,
   "metadata": {},
   "outputs": [
    {
     "name": "stdout",
     "output_type": "stream",
     "text": [
      "Hacktiv8\n",
      "hacktiv8\n",
      "hACKTIV8\n",
      "Hacktiv8\n",
      "HACKTIV8\n"
     ]
    }
   ],
   "source": [
    "# Case Conversion\n",
    "q = 'Hacktiv8'\n",
    "\n",
    "# Capitalize\n",
    "print (q.capitalize())\n",
    "\n",
    "# Lower\n",
    "print (q.lower())\n",
    "\n",
    "# Swapcase\n",
    "print (q.swapcase())\n",
    "\n",
    "# Title\n",
    "print (q.title())\n",
    "\n",
    "# Uppercase\n",
    "print (q.upper())"
   ]
  },
  {
   "cell_type": "code",
   "execution_count": 53,
   "metadata": {},
   "outputs": [
    {
     "name": "stdout",
     "output_type": "stream",
     "text": [
      "['foo', 'bar', 'baz', 'qux', 'quux', 'corge']\n",
      "foo\n",
      "corge\n",
      "foo\n",
      "corge\n",
      "['foo', 'bar']\n",
      "['foo', 'bar']\n"
     ]
    }
   ],
   "source": [
    "r = ['foo', 'bar', 'baz', 'qux', 'quux', 'corge']\n",
    "print (r)\n",
    "\n",
    "print (r[0])\n",
    "\n",
    "print (r[5])\n",
    "\n",
    "print (r[-6])\n",
    "\n",
    "print (r[-1])\n",
    "\n",
    "print (r[0:2])\n",
    "\n",
    "print (r[-6:-4])"
   ]
  },
  {
   "cell_type": "code",
   "execution_count": 51,
   "metadata": {},
   "outputs": [
    {
     "name": "stdout",
     "output_type": "stream",
     "text": [
      "['foo', 'bar', 'baz', 'qux', 'quux', 'corge', 'grault', 'garpy']\n",
      "-------------------------------------------------------\n",
      "['foo', 'bar', 'baz', 'qux', 'quux', 'corge', 'grault', 'garpy', 'foo', 'bar', 'baz', 'qux', 'quux', 'corge', 'grault', 'garpy']\n",
      "-------------------------------------------------------\n",
      "8\n",
      "-------------------------------------------------------\n",
      "bar\n",
      "-------------------------------------------------------\n",
      "qux\n"
     ]
    }
   ],
   "source": [
    "r = ['foo', 'bar', 'baz', 'qux', 'quux', 'corge']\n",
    "\n",
    "print (r+['grault', 'garpy'])\n",
    "\n",
    "print ((r+['grault', 'garpy'])*2)\n",
    "\n",
    "print (len(r+['grault', 'garpy']))\n",
    "\n",
    "print (min(r+['grault', 'garpy']))\n",
    "\n",
    "print (max(r+['grault', 'garpy']))"
   ]
  },
  {
   "cell_type": "code",
   "execution_count": 50,
   "metadata": {},
   "outputs": [
    {
     "name": "stdout",
     "output_type": "stream",
     "text": [
      "['foo', 'bar', 'baz', 'qux', 'quux', 'corge', 'grault', 'garpy'] <class 'list'>\n",
      "-------------------------------------------------------\n",
      "['foo', 10, 20, 30, 40, 50, 60, 'garpy'] <class 'list'>\n",
      "-------------------------------------------------------\n",
      "['foo', 10, 20, 30, 40, 50, 60, 'garpy'] <class 'list'>\n"
     ]
    }
   ],
   "source": [
    "v = ['foo', 'bar', 'baz', 'qux', 'quux', 'corge', 'grault', 'garpy']\n",
    "print (v, type(v))\n",
    "print('-'*55)\n",
    "v[1] = 10\n",
    "v[2] = 20\n",
    "v[3] = 30\n",
    "v[4] = 40\n",
    "v[5] = 50\n",
    "v[6] = 60\n",
    "print (v, type(v))\n",
    "print('-'*55)\n",
    "v[-7] = 10\n",
    "v[-6] = 20\n",
    "v[-5] = 30\n",
    "v[-4] = 40\n",
    "v[-3] = 50\n",
    "v[-2] = 60\n",
    "print (v, type(v))"
   ]
  }
 ],
 "metadata": {
  "kernelspec": {
   "display_name": "Python 3",
   "language": "python",
   "name": "python3"
  },
  "language_info": {
   "codemirror_mode": {
    "name": "ipython",
    "version": 3
   },
   "file_extension": ".py",
   "mimetype": "text/x-python",
   "name": "python",
   "nbconvert_exporter": "python",
   "pygments_lexer": "ipython3",
   "version": "3.8.3"
  }
 },
 "nbformat": 4,
 "nbformat_minor": 4
}
