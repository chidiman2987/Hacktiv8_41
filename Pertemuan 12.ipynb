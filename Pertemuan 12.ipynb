{
 "cells": [
  {
   "cell_type": "code",
   "execution_count": 75,
   "metadata": {},
   "outputs": [],
   "source": [
    "import matplotlib.pyplot as plt\n",
    "import numpy as np\n",
    "from sklearn.datasets import load_digits, load_wine\n",
    "from sklearn.linear_model import LogisticRegression\n",
    "from sklearn.metrics import classification_report, confusion_matrix\n",
    "from sklearn.model_selection import train_test_split\n",
    "from sklearn.neighbors import KNeighborsClassifier\n",
    "from sklearn.preprocessing import LabelEncoder, StandardScaler"
   ]
  },
  {
   "cell_type": "code",
   "execution_count": 2,
   "metadata": {},
   "outputs": [
    {
     "name": "stdout",
     "output_type": "stream",
     "text": [
      "[[0]\n",
      " [1]\n",
      " [2]\n",
      " [3]\n",
      " [4]\n",
      " [5]\n",
      " [6]\n",
      " [7]\n",
      " [8]\n",
      " [9]] (10, 1)\n",
      "[0 0 0 0 1 1 1 1 1 1] (10,)\n",
      "Targets: ['Not Spam', 'Not Spam', 'Not Spam', 'Not Spam', 'Spam', 'Spam', 'Spam', 'Spam', 'Spam', 'Spam']\n",
      "{0: 'Not Spam', 1: 'Spam'}\n",
      "{'Not Spam': 0, 'Spam': 1}\n"
     ]
    }
   ],
   "source": [
    "X = np.arange(10).reshape(-1, 1)\n",
    "y = np.array([0, 0, 0, 0, 1, 1, 1, 1, 1, 1])\n",
    "class_name = ['Not Spam', 'Spam']\n",
    "label_to_class = {\n",
    "    0: 'Not Spam',\n",
    "    1: 'Spam'\n",
    "}\n",
    "class_to_label = {\n",
    "    value: key\n",
    "    for key, value in label_to_class.items()\n",
    "}\n",
    "print(X, X.shape)\n",
    "print(y, y.shape)\n",
    "print('Targets:', [label_to_class[i] for i in y])\n",
    "print(label_to_class)\n",
    "print(class_to_label)"
   ]
  },
  {
   "cell_type": "code",
   "execution_count": 3,
   "metadata": {},
   "outputs": [
    {
     "data": {
      "text/plain": [
       "LogisticRegression(random_state=11, solver='liblinear')"
      ]
     },
     "execution_count": 3,
     "metadata": {},
     "output_type": "execute_result"
    }
   ],
   "source": [
    "# Definisi Model\n",
    "model = LogisticRegression(solver = 'liblinear', random_state=11)\n",
    "model"
   ]
  },
  {
   "cell_type": "code",
   "execution_count": 4,
   "metadata": {},
   "outputs": [
    {
     "data": {
      "text/plain": [
       "LogisticRegression(random_state=11, solver='liblinear')"
      ]
     },
     "execution_count": 4,
     "metadata": {},
     "output_type": "execute_result"
    }
   ],
   "source": [
    "model.fit(X, y)"
   ]
  },
  {
   "cell_type": "code",
   "execution_count": 5,
   "metadata": {},
   "outputs": [
    {
     "name": "stdout",
     "output_type": "stream",
     "text": [
      "Classes: [0 1]\n",
      "Weights: [[0.51491375]]\n",
      "Bias: [-1.04608067]\n",
      "n Iteration: [6]\n"
     ]
    }
   ],
   "source": [
    "print('Classes:', model.classes_)\n",
    "print('Weights:', model.coef_)\n",
    "print('Bias:', model.intercept_)\n",
    "print('n Iteration:', model.n_iter_)"
   ]
  },
  {
   "cell_type": "code",
   "execution_count": 6,
   "metadata": {},
   "outputs": [
    {
     "data": {
      "text/plain": [
       "array([[0.74002157, 0.25997843],\n",
       "       [0.62975524, 0.37024476],\n",
       "       [0.5040632 , 0.4959368 ],\n",
       "       [0.37785549, 0.62214451],\n",
       "       [0.26628093, 0.73371907],\n",
       "       [0.17821501, 0.82178499],\n",
       "       [0.11472079, 0.88527921],\n",
       "       [0.07186982, 0.92813018],\n",
       "       [0.04422513, 0.95577487],\n",
       "       [0.02690569, 0.97309431]])"
      ]
     },
     "execution_count": 6,
     "metadata": {},
     "output_type": "execute_result"
    }
   ],
   "source": [
    "model.predict_proba(X)"
   ]
  },
  {
   "cell_type": "code",
   "execution_count": 8,
   "metadata": {},
   "outputs": [
    {
     "name": "stdout",
     "output_type": "stream",
     "text": [
      "Prediction: [0 0 0 1 1 1 1 1 1 1]\n",
      "Targets: [0 0 0 0 1 1 1 1 1 1]\n",
      "Prediction Class:\n",
      "\n",
      "Prediction Class: ['Not Spam', 'Not Spam', 'Not Spam', 'Spam', 'Spam', 'Spam', 'Spam', 'Spam', 'Spam', 'Spam']\n",
      "Target Class: ['Not Spam', 'Not Spam', 'Not Spam', 'Not Spam', 'Spam', 'Spam', 'Spam', 'Spam', 'Spam', 'Spam']\n"
     ]
    }
   ],
   "source": [
    "prediction = model.predict(X)\n",
    "print('Prediction:', prediction)\n",
    "print('Targets:', y)\n",
    "print('Prediction Class:', )\n",
    "print()\n",
    "print('Prediction Class:', [label_to_class[i] for i in prediction])\n",
    "print('Target Class:', [label_to_class[i] for i in y])"
   ]
  },
  {
   "cell_type": "code",
   "execution_count": 9,
   "metadata": {},
   "outputs": [
    {
     "name": "stdout",
     "output_type": "stream",
     "text": [
      "Score: 0.9\n"
     ]
    }
   ],
   "source": [
    "model_score = model.score(X, y)\n",
    "print('Score:', model_score)"
   ]
  },
  {
   "cell_type": "code",
   "execution_count": 10,
   "metadata": {},
   "outputs": [
    {
     "data": {
      "text/plain": [
       "array([[3, 1],\n",
       "       [0, 6]], dtype=int64)"
      ]
     },
     "execution_count": 10,
     "metadata": {},
     "output_type": "execute_result"
    }
   ],
   "source": [
    "confusion_matrix(y, prediction)"
   ]
  },
  {
   "cell_type": "code",
   "execution_count": 15,
   "metadata": {},
   "outputs": [
    {
     "data": {
      "image/png": "[encoded data removed]",
      "text/plain": [
       "<Figure size 576x576 with 1 Axes>"
      ]
     },
     "metadata": {
      "needs_background": "light"
     },
     "output_type": "display_data"
    }
   ],
   "source": [
    "cm = confusion_matrix(y, prediction)\n",
    "fig, ax = plt.subplots(figsize=(8, 8))\n",
    "ax.imshow(cm)\n",
    "ax.grid(False)\n",
    "ax.xaxis.set(ticks=(0, 1), ticklabels = ('Predicted 0s', 'Predicted 1s'))\n",
    "ax.yaxis.set(ticks=(0, 1), ticklabels = ('Actual 0s', 'Actual 1s'))\n",
    "ax.set_ylim(1.5, -.5)\n",
    "for i in range(2):\n",
    "    for j in range(2):\n",
    "        ax.text(j, i, cm[i, j], ha='center', va='center', color='red')\n",
    "plt.show()\n",
    "        "
   ]
  },
  {
   "cell_type": "code",
   "execution_count": 16,
   "metadata": {},
   "outputs": [
    {
     "name": "stdout",
     "output_type": "stream",
     "text": [
      "              precision    recall  f1-score   support\n",
      "\n",
      "           0       1.00      0.75      0.86         4\n",
      "           1       0.86      1.00      0.92         6\n",
      "\n",
      "    accuracy                           0.90        10\n",
      "   macro avg       0.93      0.88      0.89        10\n",
      "weighted avg       0.91      0.90      0.90        10\n",
      "\n"
     ]
    }
   ],
   "source": [
    "print(classification_report(y, prediction))"
   ]
  },
  {
   "cell_type": "code",
   "execution_count": 20,
   "metadata": {},
   "outputs": [],
   "source": [
    "X, y = load_digits(return_X_y=True)"
   ]
  },
  {
   "cell_type": "code",
   "execution_count": 21,
   "metadata": {},
   "outputs": [
    {
     "name": "stdout",
     "output_type": "stream",
     "text": [
      "Dataset SHape: (1797, 64)\n",
      "Target Shape: (1797,)\n"
     ]
    }
   ],
   "source": [
    "print('Dataset Shape:', X.shape)\n",
    "print('Target Shape:', y.shape)"
   ]
  },
  {
   "cell_type": "code",
   "execution_count": 22,
   "metadata": {},
   "outputs": [
    {
     "name": "stdout",
     "output_type": "stream",
     "text": [
      "[[ 0.  0.  5. ...  0.  0.  0.]\n",
      " [ 0.  0.  0. ... 10.  0.  0.]\n",
      " [ 0.  0.  0. ... 16.  9.  0.]\n",
      " ...\n",
      " [ 0.  0.  1. ...  6.  0.  0.]\n",
      " [ 0.  0.  2. ... 12.  0.  0.]\n",
      " [ 0.  0. 10. ... 12.  1.  0.]]\n",
      "[0 1 2 ... 8 9 8]\n"
     ]
    }
   ],
   "source": [
    "print (X)\n",
    "print(y)"
   ]
  },
  {
   "cell_type": "code",
   "execution_count": 25,
   "metadata": {},
   "outputs": [
    {
     "name": "stdout",
     "output_type": "stream",
     "text": [
      "Training Set Shape: (1437, 64)\n",
      "Test Set Shape: (360, 64)\n"
     ]
    }
   ],
   "source": [
    "X_train, X_test, y_train, y_test = train_test_split(X, y, test_size=.2, random_state=111)\n",
    "print('Training Set Shape:', X_train.shape)\n",
    "print('Test Set Shape:', X_test.shape)"
   ]
  },
  {
   "cell_type": "markdown",
   "metadata": {},
   "source": [
    "## Scaler"
   ]
  },
  {
   "cell_type": "code",
   "execution_count": 26,
   "metadata": {},
   "outputs": [
    {
     "name": "stdout",
     "output_type": "stream",
     "text": [
      "Before Scaling Data:\n",
      "[[ 0.  0.  3. 15. 16. 16. 12.  0.  0.  0. 12. 12.  7. 16.  6.  0.  0.  4.\n",
      "  12.  0.  9. 13.  0.  0.  0.  0.  1.  1. 13.  7.  0.  0.  0.  0.  8. 13.\n",
      "  16. 16.  6.  0.  0.  0. 12. 15. 12.  6.  1.  0.  0.  0.  0. 15.  5.  0.\n",
      "   0.  0.  0.  0.  3. 16.  2.  0.  0.  0.]\n",
      " [ 0.  2.  9. 11. 12. 15.  6.  0.  0.  6. 16.  9.  8.  8.  1.  0.  0.  4.\n",
      "  13.  0.  0.  0.  0.  0.  0.  4. 16. 12. 11.  5.  0.  0.  0.  1.  5.  4.\n",
      "   8. 14.  5.  0.  0.  0.  0.  0.  0.  8.  8.  0.  0.  1.  6.  4.  5. 15.\n",
      "   3.  0.  0.  3. 16. 16. 16.  8.  0.  0.]\n",
      " [ 0.  0.  6. 12. 16. 10.  0.  0.  0.  4. 15.  8. 12. 14.  0.  0.  0.  0.\n",
      "   0.  0. 13.  8.  0.  0.  0.  0.  0.  6. 14.  1.  0.  0.  0.  0.  0.  5.\n",
      "  15.  8.  0.  0.  0.  0.  0.  0.  2. 15.  5.  0.  0.  0.  1.  4.  5. 15.\n",
      "   8.  0.  0.  0.  5. 16. 14.  9.  1.  0.]\n",
      " [ 0.  0.  5. 16. 16. 10.  0.  0.  0.  2. 16. 14. 14. 14.  0.  0.  0.  2.\n",
      "  14.  4. 14. 10.  0.  0.  0.  0.  0.  8. 16.  8.  0.  0.  0.  0.  0.  0.\n",
      "   8. 16.  6.  0.  0.  0.  0.  0.  0. 12. 13.  0.  0.  0.  7. 11.  8. 16.\n",
      "  11.  0.  0.  0.  8. 16. 16. 10.  1.  0.]\n",
      " [ 0.  0.  3. 13. 16. 15.  6.  0.  0.  0. 13. 13.  9. 16. 10.  0.  0.  0.\n",
      "  16.  9.  0. 14.  6.  0.  0.  0. 14.  2.  6. 15.  0.  0.  0.  0.  0.  5.\n",
      "  15. 15.  6.  0.  0.  0.  0. 16. 15. 10.  2.  0.  0.  0.  0. 13. 11.  0.\n",
      "   0.  0.  0.  0.  4. 16.  7.  0.  0.  0.]]\n",
      "[[ 0.  0.  4. 16. 16. 16. 12.  0.  0.  0.  4. 12. 11. 14. 13.  0.  0.  0.\n",
      "   0.  0.  0. 15.  9.  0.  0.  0.  2.  8. 10. 16.  9.  0.  0.  0.  7. 13.\n",
      "  16. 14.  5.  0.  0.  0.  0.  3. 16.  5.  0.  0.  0.  0.  0. 10. 15.  0.\n",
      "   0.  0.  0.  0.  3. 16.  9.  0.  0.  0.]\n",
      " [ 0.  0.  0. 10. 13.  0.  0.  0.  0.  0.  0. 13. 16.  5.  0.  0.  0.  0.\n",
      "   0. 16. 16.  4.  0.  0.  0.  0.  3. 16. 16.  7.  0.  0.  0.  0.  7. 16.\n",
      "  16.  9.  0.  0.  0.  0.  9. 16. 16. 10.  0.  0.  0.  0. 10. 16. 16. 14.\n",
      "   0.  0.  0.  0.  1.  5.  7. 15.  8.  0.]\n",
      " [ 0.  0.  7. 16. 16.  3.  0.  0.  0.  7. 16.  9. 14.  7.  0.  0.  0. 10.\n",
      "   9.  0. 14.  5.  0.  0.  0.  3.  3.  4. 16.  2.  0.  0.  0.  0.  0. 12.\n",
      "  11.  0.  0.  0.  0.  0.  6. 16.  3.  0.  0.  0.  0.  0. 12. 15.  8.  8.\n",
      "   3.  0.  0.  0. 10. 16. 16. 16.  9.  0.]\n",
      " [ 0.  0.  8. 16.  6.  3.  0.  0.  0.  2. 13.  5. 10. 14.  0.  0.  0.  4.\n",
      "  14.  1.  9. 16.  0.  0.  0.  0. 12. 13.  8. 13.  0.  0.  0.  0.  0.  3.\n",
      "   0. 11.  2.  0.  0.  0.  0.  0.  0. 12.  2.  0.  0.  0.  4.  1.  0. 14.\n",
      "   1.  0.  0.  0.  6. 15. 16. 10.  0.  0.]\n",
      " [ 0.  0.  7. 12. 16.  9.  0.  0.  0.  4. 16.  6.  7.  3.  0.  0.  0.  4.\n",
      "  16.  2.  8.  3.  0.  0.  0.  7. 16. 15. 13. 16.  3.  0.  0.  5. 11.  1.\n",
      "   1. 16.  8.  0.  0.  0.  0.  0.  7. 16.  0.  0.  0.  0.  0. 10. 16.  6.\n",
      "   0.  0.  0.  0. 10. 11.  4.  0.  0.  0.]]\n"
     ]
    }
   ],
   "source": [
    "print('Before Scaling Data:')\n",
    "print(X_train[:5])\n",
    "print(X_test[:5])"
   ]
  },
  {
   "cell_type": "code",
   "execution_count": 31,
   "metadata": {},
   "outputs": [],
   "source": [
    "##Scaling Process\n",
    "scaler = StandardScaler()\n",
    "X_train = scaler.fit_transform(X_train)\n",
    "X_test = scaler.transform(X_test)"
   ]
  },
  {
   "cell_type": "code",
   "execution_count": 32,
   "metadata": {},
   "outputs": [
    {
     "name": "stdout",
     "output_type": "stream",
     "text": [
      "After Scaling Data:\n",
      "[[ 0.00000000e+00 -3.35150624e-01 -4.73128609e-01  7.43064836e-01\n",
      "   9.70988363e-01  1.81050738e+00  3.22283070e+00 -1.29737637e-01\n",
      "  -5.01149787e-02 -6.34247931e-01  2.72410162e-01  3.47599586e-04\n",
      "  -6.94511047e-01  1.28981872e+00  1.13866717e+00 -1.32944585e-01\n",
      "  -2.63889907e-02  3.92196637e-01  3.44973933e-01 -1.20956234e+00\n",
      "   3.04876340e-01  8.34717807e-01 -5.46683761e-01 -1.13506694e-01\n",
      "  -2.63889907e-02 -7.85595556e-01 -1.30870879e+00 -1.33156188e+00\n",
      "   5.00996086e-01 -9.05352464e-02 -6.26915500e-01 -5.28331981e-02\n",
      "   0.00000000e+00 -6.63580903e-01  6.25443843e-02  6.24184923e-01\n",
      "   9.58805678e-01  1.23024481e+00  8.84774018e-01  0.00000000e+00\n",
      "  -5.18044323e-02 -5.24481863e-01  7.94217140e-01  1.21609910e+00\n",
      "   6.90955808e-01 -3.93299947e-01 -5.74512958e-01 -8.71856088e-02\n",
      "  -3.96300945e-02 -4.01377453e-01 -1.33698248e+00  1.04098390e+00\n",
      "  -8.49792425e-01 -1.45401261e+00 -7.64883609e-01 -2.10910431e-01\n",
      "  -2.63889907e-02 -3.02408810e-01 -5.10857985e-01  8.82811316e-01\n",
      "  -2.02856547e+00 -1.14758563e+00 -4.99881876e-01 -2.03599687e-01]\n",
      " [ 0.00000000e+00  1.88425696e+00  7.93739362e-01 -2.08190549e-01\n",
      "   4.09365199e-02  1.63382153e+00  1.40939689e+00 -1.29737637e-01\n",
      "  -5.01149787e-02  1.25208724e+00  1.01874649e+00 -7.48903309e-01\n",
      "  -4.84579963e-01 -3.06689463e-02 -2.44013854e-01 -1.32944585e-01\n",
      "  -2.63889907e-02  3.92196637e-01  5.22590393e-01 -1.20956234e+00\n",
      "  -1.14794816e+00 -1.26060111e+00 -5.46683761e-01 -1.13506694e-01\n",
      "  -2.63889907e-02  4.78217278e-01  1.11143689e+00  5.41369126e-01\n",
      "   1.73233111e-01 -4.31108935e-01 -6.26915500e-01 -5.28331981e-02\n",
      "   0.00000000e+00 -3.76535221e-01 -4.06375339e-01 -8.09921244e-01\n",
      "  -3.84410271e-01  8.91509074e-01  5.99638278e-01  0.00000000e+00\n",
      "  -5.18044323e-02 -5.24481863e-01 -1.03795415e+00 -1.11768082e+00\n",
      "  -1.21725078e+00 -4.16060927e-02  1.04245007e+00 -8.71856088e-02\n",
      "  -3.96300945e-02  1.70824333e-01 -2.77473018e-01 -1.07186054e+00\n",
      "  -8.49792425e-01  1.02433958e+00 -1.54816405e-01 -2.10910431e-01\n",
      "  -2.63889907e-02  2.98143093e+00  2.03335370e+00  8.82811316e-01\n",
      "   8.45830932e-01  2.20094694e-01 -4.99881876e-01 -2.03599687e-01]\n",
      " [ 0.00000000e+00 -3.35150624e-01  1.60305377e-01  2.96232975e-02\n",
      "   9.70988363e-01  7.50392295e-01 -4.04036923e-01 -1.29737637e-01\n",
      "  -5.01149787e-02  6.23308850e-01  8.32162406e-01 -9.98653611e-01\n",
      "   3.55144374e-01  9.59696804e-01 -5.20550059e-01 -1.32944585e-01\n",
      "  -2.63889907e-02 -7.34413192e-01 -1.78642359e+00 -1.20956234e+00\n",
      "   9.50576120e-01  2.88259173e-02 -5.46683761e-01 -1.13506694e-01\n",
      "  -2.63889907e-02 -7.85595556e-01 -1.47005184e+00 -4.80229605e-01\n",
      "   6.64877574e-01 -1.11225631e+00 -6.26915500e-01 -5.28331981e-02\n",
      "   0.00000000e+00 -6.63580903e-01 -1.18790821e+00 -6.50576114e-01\n",
      "   7.90903685e-01 -1.24698123e-01 -8.26040421e-01  0.00000000e+00\n",
      "  -5.18044323e-02 -5.24481863e-01 -1.03795415e+00 -1.11768082e+00\n",
      "  -8.99216351e-01  1.18932240e+00  3.49465913e-01 -8.71856088e-02\n",
      "  -3.96300945e-02 -4.01377453e-01 -1.16039757e+00 -1.07186054e+00\n",
      "  -8.49792425e-01  1.02433958e+00  8.61962268e-01 -2.10910431e-01\n",
      "  -2.63889907e-02 -3.02408810e-01 -1.19440803e-01  8.82811316e-01\n",
      "   4.35202875e-01  3.91054734e-01 -2.57938375e-01 -2.03599687e-01]\n",
      " [ 0.00000000e+00 -3.35150624e-01 -5.08392853e-02  9.80878682e-01\n",
      "   9.70988363e-01  7.50392295e-01 -4.04036923e-01 -1.29737637e-01\n",
      "  -5.01149787e-02 -5.46954062e-03  1.01874649e+00  4.99848205e-01\n",
      "   7.75006542e-01  9.59696804e-01 -5.20550059e-01 -1.32944585e-01\n",
      "  -2.63889907e-02 -1.71108278e-01  7.00206854e-01 -5.15485837e-01\n",
      "   1.11200106e+00  3.51182673e-01 -5.46683761e-01 -1.13506694e-01\n",
      "  -2.63889907e-02 -7.85595556e-01 -1.47005184e+00 -1.39696695e-01\n",
      "   9.92640549e-01  7.97515979e-02 -6.26915500e-01 -5.28331981e-02\n",
      "   0.00000000e+00 -6.63580903e-01 -1.18790821e+00 -1.44730176e+00\n",
      "  -3.84410271e-01  1.23024481e+00  8.84774018e-01  0.00000000e+00\n",
      "  -5.18044323e-02 -5.24481863e-01 -1.03795415e+00 -1.11768082e+00\n",
      "  -1.21725078e+00  6.61781616e-01  2.19742365e+00 -8.71856088e-02\n",
      "  -3.96300945e-02 -4.01377453e-01 -1.00888108e-01  2.72676831e-01\n",
      "  -2.85315515e-01  1.18956306e+00  1.47202947e+00 -2.10910431e-01\n",
      "  -2.63889907e-02 -3.02408810e-01  4.67684969e-01  8.82811316e-01\n",
      "   8.45830932e-01  5.62014774e-01 -2.57938375e-01 -2.03599687e-01]\n",
      " [ 0.00000000e+00 -3.35150624e-01 -4.73128609e-01  2.67437144e-01\n",
      "   9.70988363e-01  1.63382153e+00  1.40939689e+00 -1.29737637e-01\n",
      "  -5.01149787e-02 -6.34247931e-01  4.58994243e-01  2.50097902e-01\n",
      "  -2.74648878e-01  1.28981872e+00  2.24481199e+00 -1.32944585e-01\n",
      "  -2.63889907e-02 -7.34413192e-01  1.05543978e+00  3.52109792e-01\n",
      "  -1.14794816e+00  9.95896185e-01  1.29524957e+00 -1.13506694e-01\n",
      "  -2.63889907e-02 -7.85595556e-01  7.88750795e-01 -1.16129543e+00\n",
      "  -6.46174328e-01  1.27175951e+00 -6.26915500e-01 -5.28331981e-02\n",
      "   0.00000000e+00 -6.63580903e-01 -1.18790821e+00 -6.50576114e-01\n",
      "   7.90903685e-01  1.06087694e+00  8.84774018e-01  0.00000000e+00\n",
      "  -5.18044323e-02 -5.24481863e-01 -1.03795415e+00  1.37168442e+00\n",
      "   1.16800746e+00  3.10087761e-01 -3.43518241e-01 -8.71856088e-02\n",
      "  -3.96300945e-02 -4.01377453e-01 -1.33698248e+00  6.56830367e-01\n",
      "   2.79161394e-01 -1.45401261e+00 -7.64883609e-01 -2.10910431e-01\n",
      "  -2.63889907e-02 -3.02408810e-01 -3.15149394e-01  8.82811316e-01\n",
      "  -1.00199533e+00 -1.14758563e+00 -4.99881876e-01 -2.03599687e-01]]\n",
      "[[ 0.00000000e+00 -3.35150624e-01 -2.61983947e-01  9.80878682e-01\n",
      "   9.70988363e-01  1.81050738e+00  3.22283070e+00 -1.29737637e-01\n",
      "  -5.01149787e-02 -6.34247931e-01 -1.22026249e+00  3.47599586e-04\n",
      "   1.45213290e-01  9.59696804e-01  3.07442060e+00 -1.32944585e-01\n",
      "  -2.63889907e-02 -7.34413192e-01 -1.78642359e+00 -1.20956234e+00\n",
      "  -1.14794816e+00  1.15707456e+00  2.21621623e+00 -1.13506694e-01\n",
      "  -2.63889907e-02 -7.85595556e-01 -1.14736575e+00 -1.39696695e-01\n",
      "   9.35162282e-03  1.44204635e+00  1.83375162e+00 -5.28331981e-02\n",
      "   0.00000000e+00 -6.63580903e-01 -9.37621900e-02  6.24184923e-01\n",
      "   9.58805678e-01  8.91509074e-01  5.99638278e-01  0.00000000e+00\n",
      "  -5.18044323e-02 -5.24481863e-01 -1.03795415e+00 -6.50924836e-01\n",
      "   1.32702467e+00 -5.69146874e-01 -8.05507676e-01 -8.71856088e-02\n",
      "  -3.96300945e-02 -4.01377453e-01 -1.33698248e+00  8.06000634e-02\n",
      "   1.03179727e+00 -1.45401261e+00 -7.64883609e-01 -2.10910431e-01\n",
      "  -2.63889907e-02 -3.02408810e-01 -5.10857985e-01  8.82811316e-01\n",
      "  -5.91367268e-01 -1.14758563e+00 -4.99881876e-01 -2.03599687e-01]\n",
      " [ 0.00000000e+00 -3.35150624e-01 -1.10656259e+00 -4.46004395e-01\n",
      "   2.73449481e-01 -1.01646618e+00 -4.04036923e-01 -1.29737637e-01\n",
      "  -5.01149787e-02 -6.34247931e-01 -1.96659881e+00  2.50097902e-01\n",
      "   1.19486871e+00 -5.25851822e-01 -5.20550059e-01 -1.32944585e-01\n",
      "  -2.63889907e-02 -7.34413192e-01 -1.78642359e+00  1.56674367e+00\n",
      "   1.43485095e+00 -6.15887595e-01 -5.46683761e-01 -1.13506694e-01\n",
      "  -2.63889907e-02 -7.85595556e-01 -9.86022702e-01  1.22243495e+00\n",
      "   9.92640549e-01 -9.05352464e-02 -6.26915500e-01 -5.28331981e-02\n",
      "   0.00000000e+00 -6.63580903e-01 -9.37621900e-02  1.10222031e+00\n",
      "   9.58805678e-01  4.46697434e-02 -8.26040421e-01  0.00000000e+00\n",
      "  -5.18044323e-02 -5.24481863e-01  3.36174319e-01  1.37168442e+00\n",
      "   1.32702467e+00  3.10087761e-01 -8.05507676e-01 -8.71856088e-02\n",
      "  -3.96300945e-02 -4.01377453e-01  4.28866622e-01  1.23306067e+00\n",
      "   1.21995624e+00  8.59116103e-01 -7.64883609e-01 -2.10910431e-01\n",
      "  -2.63889907e-02 -3.02408810e-01 -9.02275166e-01 -1.66411303e+00\n",
      "  -1.00199533e+00  1.41681498e+00  1.43566614e+00 -2.03599687e-01]\n",
      " [ 0.00000000e+00 -3.35150624e-01  3.71450038e-01  9.80878682e-01\n",
      "   9.70988363e-01 -4.86408638e-01 -4.04036923e-01 -1.29737637e-01\n",
      "  -5.01149787e-02  1.56647643e+00  1.01874649e+00 -7.48903309e-01\n",
      "   7.75006542e-01 -1.95729905e-01 -5.20550059e-01 -1.32944585e-01\n",
      "  -2.63889907e-02  2.08211138e+00 -1.87875449e-01 -1.20956234e+00\n",
      "   1.11200106e+00 -4.54709217e-01 -5.46683761e-01 -1.13506694e-01\n",
      "  -2.63889907e-02  1.62264069e-01 -9.86022702e-01 -8.20762516e-01\n",
      "   9.92640549e-01 -9.41969468e-01 -6.26915500e-01 -5.28331981e-02\n",
      "   0.00000000e+00 -6.63580903e-01 -1.18790821e+00  4.64839794e-01\n",
      "   1.19295710e-01 -1.47964105e+00 -8.26040421e-01  0.00000000e+00\n",
      "  -5.18044323e-02 -5.24481863e-01 -1.21868503e-01  1.37168442e+00\n",
      "  -7.40199135e-01 -1.44838151e+00 -8.05507676e-01 -8.71856088e-02\n",
      "  -3.96300945e-02 -4.01377453e-01  7.82036443e-01  1.04098390e+00\n",
      "  -2.85315515e-01 -1.32224775e-01 -1.54816405e-01 -2.10910431e-01\n",
      "  -2.63889907e-02 -3.02408810e-01  8.59102151e-01  8.82811316e-01\n",
      "   8.45830932e-01  1.58777502e+00  1.67760964e+00 -2.03599687e-01]\n",
      " [ 0.00000000e+00 -3.35150624e-01  5.82594700e-01  9.80878682e-01\n",
      "  -1.35414124e+00 -4.86408638e-01 -4.04036923e-01 -1.29737637e-01\n",
      "  -5.01149787e-02 -5.46954062e-03  4.58994243e-01 -1.74790452e+00\n",
      "  -6.47177942e-02  9.59696804e-01 -5.20550059e-01 -1.32944585e-01\n",
      "  -2.63889907e-02  3.92196637e-01  7.00206854e-01 -1.03604321e+00\n",
      "   3.04876340e-01  1.31825294e+00 -5.46683761e-01 -1.13506694e-01\n",
      "  -2.63889907e-02 -7.85595556e-01  4.66064705e-01  7.11635581e-01\n",
      "  -3.18411353e-01  9.31185820e-01 -6.26915500e-01 -5.28331981e-02\n",
      "   0.00000000e+00 -6.63580903e-01 -1.18790821e+00 -9.69266373e-01\n",
      "  -1.72762622e+00  3.83405475e-01 -2.55768941e-01  0.00000000e+00\n",
      "  -5.18044323e-02 -5.24481863e-01 -1.03795415e+00 -1.11768082e+00\n",
      "  -1.21725078e+00  6.61781616e-01 -3.43518241e-01 -8.71856088e-02\n",
      "  -3.96300945e-02 -4.01377453e-01 -6.30642838e-01 -1.64809085e+00\n",
      "  -1.79058727e+00  8.59116103e-01 -5.61527874e-01 -2.10910431e-01\n",
      "  -2.63889907e-02 -3.02408810e-01  7.62677876e-02  6.51272739e-01\n",
      "   8.45830932e-01  5.62014774e-01 -4.99881876e-01 -2.03599687e-01]\n",
      " [ 0.00000000e+00 -3.35150624e-01  3.71450038e-01  2.96232975e-02\n",
      "   9.70988363e-01  5.73706447e-01 -4.04036923e-01 -1.29737637e-01\n",
      "  -5.01149787e-02  6.23308850e-01  1.01874649e+00 -1.49815422e+00\n",
      "  -6.94511047e-01 -8.55973738e-01 -5.20550059e-01 -1.32944585e-01\n",
      "  -2.63889907e-02  3.92196637e-01  1.05543978e+00 -8.62524089e-01\n",
      "   1.43451395e-01 -7.77065973e-01 -5.46683761e-01 -1.13506694e-01\n",
      "  -2.63889907e-02  1.42607690e+00  1.11143689e+00  1.05216849e+00\n",
      "   5.00996086e-01  1.44204635e+00  1.93306873e-01 -5.28331981e-02\n",
      "   0.00000000e+00  7.71647511e-01  5.31464107e-01 -1.28795663e+00\n",
      "  -1.55972423e+00  1.23024481e+00  1.45504550e+00  0.00000000e+00\n",
      "  -5.18044323e-02 -5.24481863e-01 -1.03795415e+00 -1.11768082e+00\n",
      "  -1.04130272e-01  1.36516932e+00 -8.05507676e-01 -8.71856088e-02\n",
      "  -3.96300945e-02 -4.01377453e-01 -1.33698248e+00  8.06000634e-02\n",
      "   1.21995624e+00 -4.62671734e-01 -7.64883609e-01 -2.10910431e-01\n",
      "  -2.63889907e-02 -3.02408810e-01  8.59102151e-01 -2.74881567e-01\n",
      "  -1.61793741e+00 -1.14758563e+00 -4.99881876e-01 -2.03599687e-01]]\n"
     ]
    }
   ],
   "source": [
    "print('After Scaling Data:')\n",
    "print(X_train[:5])\n",
    "print(X_test[:5])"
   ]
  },
  {
   "cell_type": "markdown",
   "metadata": {},
   "source": [
    "## Logstic Regression"
   ]
  },
  {
   "cell_type": "code",
   "execution_count": 34,
   "metadata": {},
   "outputs": [
    {
     "data": {
      "text/plain": [
       "LogisticRegression(C=0.05, multi_class='ovr', random_state=111,\n",
       "                   solver='liblinear')"
      ]
     },
     "execution_count": 34,
     "metadata": {},
     "output_type": "execute_result"
    }
   ],
   "source": [
    "model = LogisticRegression(solver='liblinear', C=0.05, multi_class='ovr', random_state= 111)\n",
    "model.fit(X_train, y_train)"
   ]
  },
  {
   "cell_type": "code",
   "execution_count": 38,
   "metadata": {},
   "outputs": [
    {
     "name": "stdout",
     "output_type": "stream",
     "text": [
      "--Training Set Performance--\n",
      "              precision    recall  f1-score   support\n",
      "\n",
      "           0       0.99      1.00      0.99       142\n",
      "           1       0.93      0.97      0.95       143\n",
      "           2       0.97      1.00      0.99       145\n",
      "           3       0.99      0.97      0.98       148\n",
      "           4       1.00      0.98      0.99       143\n",
      "           5       0.97      0.98      0.97       147\n",
      "           6       0.99      0.99      0.99       143\n",
      "           7       0.97      0.99      0.98       141\n",
      "           8       0.95      0.89      0.92       138\n",
      "           9       0.93      0.93      0.93       147\n",
      "\n",
      "    accuracy                           0.97      1437\n",
      "   macro avg       0.97      0.97      0.97      1437\n",
      "weighted avg       0.97      0.97      0.97      1437\n",
      "\n",
      "--Test Set Performance--\n",
      "              precision    recall  f1-score   support\n",
      "\n",
      "           0       0.97      1.00      0.99        36\n",
      "           1       0.97      0.92      0.95        39\n",
      "           2       0.91      0.97      0.94        32\n",
      "           3       0.94      0.86      0.90        35\n",
      "           4       0.97      0.92      0.95        38\n",
      "           5       0.97      0.94      0.96        35\n",
      "           6       0.95      0.97      0.96        38\n",
      "           7       0.88      1.00      0.94        38\n",
      "           8       0.91      0.81      0.85        36\n",
      "           9       0.92      1.00      0.96        33\n",
      "\n",
      "    accuracy                           0.94       360\n",
      "   macro avg       0.94      0.94      0.94       360\n",
      "weighted avg       0.94      0.94      0.94       360\n",
      "\n"
     ]
    }
   ],
   "source": [
    "print('--Training Set Performance--')\n",
    "train_pred = model.predict(X_train)\n",
    "print(classification_report(y_train, train_pred))\n",
    "\n",
    "print('--Test Set Performance--')\n",
    "test_pred = model.predict(X_test)\n",
    "print(classification_report(y_test, test_pred))"
   ]
  },
  {
   "cell_type": "code",
   "execution_count": 45,
   "metadata": {},
   "outputs": [
    {
     "data": {
      "image/png": "[encoded data removed]",
      "text/plain": [
       "<Figure size 576x576 with 1 Axes>"
      ]
     },
     "metadata": {
      "needs_background": "light"
     },
     "output_type": "display_data"
    }
   ],
   "source": [
    "cm = confusion_matrix(y_test, test_pred)\n",
    "fig, ax = plt.subplots(figsize=(8, 8))\n",
    "ax.imshow(cm)\n",
    "ax.grid(False)\n",
    "ax.set_xlabel('Prediction', color='black')\n",
    "ax.set_ylabel('Actual', color='black')\n",
    "ax.xaxis.set(ticks=range(10))\n",
    "ax.yaxis.set(ticks=range(10))\n",
    "ax.set_ylim(9.5, -0.5)\n",
    "for i in range(10):\n",
    "    for j in range(10):\n",
    "        ax.text(j, i, cm[i, j], ha='center', va='center', color='white')\n",
    "plt.show()"
   ]
  },
  {
   "cell_type": "code",
   "execution_count": 54,
   "metadata": {},
   "outputs": [
    {
     "data": {
      "text/plain": [
       "array([[ 0.00000000e+00,  1.48681984e-03, -4.03579624e-02,\n",
       "         1.73230765e-01, -7.82109461e-02, -2.20559861e-01,\n",
       "        -2.40143112e-02,  2.18305653e-03, -6.46046056e-03,\n",
       "        -1.34972556e-01,  3.66588722e-02,  6.84132648e-02,\n",
       "         3.10202509e-01,  2.83986918e-01, -1.04966311e-02,\n",
       "        -5.14479206e-02,  7.84968644e-03,  7.31637075e-02,\n",
       "        -1.13043771e-02, -7.78599250e-03, -1.35950709e-01,\n",
       "         3.02053385e-01,  5.48443107e-02, -1.73267993e-04,\n",
       "         1.84161128e-02,  1.75456700e-01,  3.00754279e-02,\n",
       "        -2.50339288e-01, -4.71905796e-01, -1.35714277e-01,\n",
       "         1.76205760e-01, -2.52239334e-03,  0.00000000e+00,\n",
       "         1.38772136e-01,  1.69180181e-01, -3.19341975e-01,\n",
       "        -3.39262935e-01, -2.13866612e-01,  1.78042430e-01,\n",
       "         0.00000000e+00, -7.44444889e-03, -6.52792426e-02,\n",
       "         3.75984883e-01, -3.24684634e-01, -3.27673326e-01,\n",
       "         2.20717897e-02,  2.17390822e-02,  1.61018258e-02,\n",
       "        -3.13516972e-02, -1.57188376e-01,  2.16207484e-01,\n",
       "         1.07281472e-01,  1.74829950e-01,  1.35299050e-01,\n",
       "        -2.12270991e-01,  1.35079087e-02,  1.93460963e-02,\n",
       "        -8.92348016e-03, -6.10779085e-02,  1.16555433e-01,\n",
       "        -7.03333295e-02, -1.16093810e-01, -3.78070349e-02,\n",
       "        -4.76583753e-03],\n",
       "       [ 0.00000000e+00, -2.16736114e-02, -7.82498128e-02,\n",
       "         1.03724136e-01, -4.26663577e-01,  2.77336067e-01,\n",
       "        -1.54006129e-02, -9.65249877e-03, -3.04372961e-02,\n",
       "        -2.86284789e-01, -4.66489361e-01, -1.32586539e-01,\n",
       "         1.56653078e-01,  2.43947745e-01, -1.93464020e-01,\n",
       "        -1.36763244e-02, -1.14934206e-02,  3.91599717e-02,\n",
       "        -7.42181940e-02,  5.31850598e-01,  4.69353164e-01,\n",
       "        -7.31687195e-02, -1.43540023e-02, -5.88369128e-03,\n",
       "        -5.94266886e-02,  1.50745148e-01,  1.52528046e-01,\n",
       "         2.99826434e-01,  7.14733614e-02,  3.29891791e-02,\n",
       "        -1.08428259e-01,  6.66507196e-04,  0.00000000e+00,\n",
       "        -6.03898195e-02, -6.36322550e-03, -1.66257542e-02,\n",
       "         5.67650956e-02, -9.80776816e-02, -1.06036970e-01,\n",
       "         0.00000000e+00,  2.90946801e-02, -2.35352109e-01,\n",
       "        -1.54048797e-01,  2.77966568e-02,  1.53932564e-01,\n",
       "        -2.52481265e-01, -1.41522071e-01, -7.92198409e-02,\n",
       "         7.39871660e-03, -9.87580847e-02, -4.37150491e-02,\n",
       "         1.75394288e-01,  1.50631089e-01,  2.26897802e-02,\n",
       "        -2.34014184e-01,  1.02900568e-01, -3.17144988e-02,\n",
       "        -5.51007258e-03, -1.97439632e-01,  4.05162746e-02,\n",
       "         1.35483507e-01,  2.51923806e-01, -7.10727160e-02,\n",
       "         1.16516669e-01],\n",
       "       [ 0.00000000e+00, -5.62359800e-02,  6.83693952e-02,\n",
       "        -5.85790677e-02,  3.76412640e-02, -1.12422807e-01,\n",
       "        -1.20940511e-02, -6.54181573e-03, -1.33405094e-02,\n",
       "         2.00282742e-01,  1.20912081e-01, -3.92066403e-02,\n",
       "         1.91393259e-01, -1.70561521e-01, -4.38388143e-02,\n",
       "         3.22810931e-02,  8.20382975e-02,  3.05025839e-02,\n",
       "         3.83773881e-02, -2.20237699e-01,  7.14173180e-02,\n",
       "        -1.62059571e-02,  8.20343286e-02,  1.01932475e-01,\n",
       "         3.53902353e-03, -6.95778691e-02, -3.48904012e-01,\n",
       "        -5.42844112e-01,  3.80864058e-02,  1.13393297e-01,\n",
       "         4.29207310e-03,  1.88925404e-02,  0.00000000e+00,\n",
       "        -8.24841331e-03, -3.08209831e-01, -5.60351610e-02,\n",
       "        -9.66303790e-02, -1.29659652e-01, -2.41113112e-01,\n",
       "         0.00000000e+00, -3.73639690e-02,  7.65850225e-02,\n",
       "         4.19802346e-02,  4.95764065e-01, -2.90123429e-01,\n",
       "        -4.53637051e-01, -4.20820804e-01,  6.72700182e-02,\n",
       "        -1.82167667e-02,  1.52079686e-01,  4.27515300e-02,\n",
       "         2.96839736e-01,  4.22720667e-01,  3.55775996e-01,\n",
       "         2.40809288e-01, -4.04341905e-02,  8.72679707e-02,\n",
       "         2.16455680e-02,  1.50225708e-01,  1.97799609e-02,\n",
       "         6.03635123e-02,  2.52842089e-01,  4.01911566e-01,\n",
       "         1.64740394e-02],\n",
       "       [ 0.00000000e+00,  9.30288228e-02, -9.07166875e-02,\n",
       "         1.16538311e-01,  2.89312504e-01,  1.21861762e-02,\n",
       "        -7.53871149e-02, -1.55409874e-02, -2.93818538e-02,\n",
       "         7.70130452e-02,  9.12939578e-02,  1.02387492e-01,\n",
       "        -3.06336333e-02,  1.84956133e-01,  2.20957744e-01,\n",
       "        -1.32415509e-03, -2.04807186e-02, -6.87086366e-02,\n",
       "        -5.38499737e-01, -2.92084987e-01,  3.67515309e-01,\n",
       "        -7.31844962e-02, -5.82039510e-03,  4.76067635e-03,\n",
       "         4.25117281e-02, -1.24213394e-01, -4.04221514e-01,\n",
       "        -9.40329916e-02,  5.27103369e-02, -5.00105513e-01,\n",
       "        -2.51059710e-01,  4.95960439e-02,  0.00000000e+00,\n",
       "         8.01319338e-02, -1.24326763e-01, -2.33999011e-01,\n",
       "         2.97684651e-01,  1.36727688e-01, -1.10037222e-01,\n",
       "         0.00000000e+00,  3.18988411e-02,  7.40456558e-02,\n",
       "        -2.47665064e-01, -5.32132183e-01,  1.00165545e-02,\n",
       "         4.43465218e-01,  3.86411018e-01, -3.74580525e-03,\n",
       "        -9.78560500e-03, -1.94830486e-02,  1.17117949e-02,\n",
       "        -1.13633317e-01,  5.81330974e-03,  3.59283355e-02,\n",
       "         1.13705505e-01, -6.04989863e-02,  2.14859793e-02,\n",
       "         1.35435993e-02,  5.05631467e-02,  3.04825862e-02,\n",
       "         1.56392760e-01, -1.94680963e-02, -1.22955267e-01,\n",
       "        -9.77560430e-02],\n",
       "       [ 0.00000000e+00,  1.07907988e-02, -4.56286072e-02,\n",
       "        -2.69612116e-01,  1.78114755e-02, -3.35104640e-01,\n",
       "        -2.20789000e-01, -3.27003817e-02, -7.53267011e-03,\n",
       "         1.86287349e-01, -1.62207096e-01, -8.45277714e-02,\n",
       "        -3.08876205e-01, -3.91447143e-01, -1.21866491e-01,\n",
       "        -3.03606345e-02,  3.64000260e-04, -7.24178752e-03,\n",
       "         9.11404264e-02,  1.49218121e-01,  1.47321302e-02,\n",
       "         1.54839182e-02,  4.33918977e-02,  1.43359307e-01,\n",
       "         1.02378510e-01,  4.91425127e-02,  1.36424983e-01,\n",
       "        -1.38991523e-01,  1.26879264e-01,  1.29655261e-01,\n",
       "         3.19395868e-01,  1.88439518e-01,  0.00000000e+00,\n",
       "         3.70512751e-01, -2.14009674e-02, -7.21179002e-02,\n",
       "         1.58452653e-01,  2.44461889e-01,  1.67148038e-01,\n",
       "         0.00000000e+00,  1.49567647e-01,  3.25429091e-01,\n",
       "        -1.01695249e-01,  3.32983227e-01,  3.00098795e-01,\n",
       "         1.36649754e-01, -8.90752671e-02, -1.41723057e-02,\n",
       "         6.75223122e-02,  2.00948289e-01, -2.41723909e-01,\n",
       "        -1.38543347e-01,  9.32805069e-02, -2.67661850e-01,\n",
       "        -1.41241154e-01,  5.52634682e-04, -5.37288286e-02,\n",
       "         3.02830230e-02, -4.02375521e-03, -1.00904926e-01,\n",
       "         1.26830900e-01, -2.49080877e-01, -1.07476727e-02,\n",
       "        -3.47698262e-03],\n",
       "       [ 0.00000000e+00,  2.90789890e-02,  3.68791463e-01,\n",
       "        -1.23728733e-01,  1.69513185e-01,  4.18547080e-01,\n",
       "         2.52750412e-01, -1.00297951e-01,  3.26560593e-02,\n",
       "        -6.60602442e-02,  1.35503785e-01,  7.68481322e-02,\n",
       "         9.29726980e-02, -1.94329876e-01, -1.26433931e-01,\n",
       "        -2.56453053e-02,  1.13722870e-03,  1.05467045e-01,\n",
       "         1.89560894e-01,  1.55290599e-03, -5.72902859e-01,\n",
       "        -6.71797652e-01, -3.49460493e-01,  2.21465526e-02,\n",
       "        -7.09225395e-02,  2.21562887e-01,  3.17352123e-01,\n",
       "         1.85830990e-01,  8.75544078e-02, -2.70305619e-02,\n",
       "        -2.30904689e-01, -3.14830114e-03,  0.00000000e+00,\n",
       "        -5.42901625e-02,  1.55557597e-01, -1.11000658e-01,\n",
       "        -1.44958457e-01, -6.45481271e-03,  1.77590971e-02,\n",
       "         0.00000000e+00, -2.05728303e-03, -1.49945814e-01,\n",
       "        -4.00452394e-01, -2.25843305e-01, -1.21000516e-02,\n",
       "         4.89999933e-02,  4.29259562e-02, -1.89729544e-02,\n",
       "         4.00890565e-02, -1.04099385e-02, -6.56180460e-02,\n",
       "        -9.16885304e-02,  5.84754218e-02, -7.09964724e-02,\n",
       "        -1.91399211e-01,  4.37374599e-02,  6.09440531e-03,\n",
       "         8.23997952e-02,  2.82699850e-01,  1.93990268e-01,\n",
       "        -1.19405093e-01, -1.54497058e-01, -1.11877187e-01,\n",
       "        -9.93629110e-02],\n",
       "       [ 0.00000000e+00, -5.62607272e-03, -2.15035238e-01,\n",
       "         1.91963646e-02,  2.98454734e-03, -4.80655883e-02,\n",
       "         3.29543194e-05,  6.32547598e-03,  3.71926231e-02,\n",
       "        -1.35892962e-01, -1.31582844e-01,  2.75773628e-03,\n",
       "        -2.09190993e-01, -1.61635745e-01,  9.42110625e-02,\n",
       "         1.61773678e-02,  2.62130841e-02, -2.31423294e-01,\n",
       "         4.96665585e-02, -3.81597524e-02, -2.83364582e-01,\n",
       "        -3.85716298e-01, -1.02190824e-01,  9.04558717e-03,\n",
       "         9.75530088e-03, -1.26646947e-01,  1.37357732e-01,\n",
       "        -3.46482809e-02, -2.53517431e-01, -2.16391079e-01,\n",
       "        -2.96582000e-01,  9.76914163e-03,  0.00000000e+00,\n",
       "         6.31152066e-03,  2.57729987e-01,  1.56009916e-01,\n",
       "         1.29815905e-01,  1.51894504e-01, -1.12835416e-01,\n",
       "         0.00000000e+00, -2.15572289e-02, -2.32846595e-01,\n",
       "         3.21541487e-01,  1.07426886e-01,  2.35580813e-02,\n",
       "         3.10999320e-02,  3.34659322e-01,  2.25246358e-01,\n",
       "         2.10928292e-02, -1.20595790e-01,  1.47173085e-01,\n",
       "         2.87601069e-01, -2.55201180e-01,  2.00288489e-01,\n",
       "         2.97707432e-01, -1.65507848e-01,  1.49169939e-02,\n",
       "        -1.94462043e-02, -7.10960961e-02, -1.07305388e-01,\n",
       "        -6.21919422e-02,  3.07810265e-01,  1.90208109e-02,\n",
       "        -8.76958489e-02],\n",
       "       [ 0.00000000e+00, -1.19926688e-02, -1.77947984e-02,\n",
       "         1.58302462e-01,  1.05926368e-01,  1.61216036e-01,\n",
       "         2.57308128e-01,  1.07457414e-01,  8.13437241e-03,\n",
       "        -7.56131938e-02,  1.86182711e-01,  5.81313367e-02,\n",
       "         2.87982751e-01,  1.10483700e-01,  4.10423347e-03,\n",
       "         8.43342870e-02,  3.81193613e-03, -9.15154745e-02,\n",
       "        -3.05567553e-01, -2.47517524e-01, -9.02486048e-02,\n",
       "        -2.84426053e-02,  2.46844395e-02, -3.37575213e-02,\n",
       "         1.03973214e-02, -2.72418163e-01, -1.96577439e-01,\n",
       "        -2.70504011e-01, -3.15535562e-02,  2.21483836e-01,\n",
       "         2.11645954e-01, -1.31131032e-01,  0.00000000e+00,\n",
       "        -1.41156281e-01,  1.66376639e-01,  1.82277103e-01,\n",
       "         1.98651994e-01,  2.39694161e-01,  2.64986578e-01,\n",
       "         0.00000000e+00,  1.22821735e-02, -3.81247760e-02,\n",
       "         4.63584307e-02,  1.24984451e-01,  1.05104523e-01,\n",
       "        -8.78894932e-02, -6.06208504e-02, -2.99830360e-02,\n",
       "         5.58568522e-02, -7.39969599e-02, -4.58471821e-02,\n",
       "         1.22491941e-01, -4.63026246e-01, -3.44180381e-01,\n",
       "        -2.28626677e-02,  3.90472251e-02, -1.08351823e-03,\n",
       "        -1.14694522e-01,  2.18138488e-02, -1.18939776e-01,\n",
       "        -4.76720046e-01, -1.84499493e-01, -9.11771423e-02,\n",
       "         4.45951582e-02],\n",
       "       [ 0.00000000e+00, -6.89648830e-02,  2.49460866e-02,\n",
       "        -2.42403595e-01, -3.78955191e-03, -6.90949802e-02,\n",
       "        -2.80589080e-01, -2.27254728e-02,  3.23089496e-02,\n",
       "        -8.26091202e-02,  2.96487831e-01, -1.03659533e-01,\n",
       "        -1.87756068e-01,  2.92801850e-01,  1.12370446e-01,\n",
       "         1.67598920e-02,  5.72824705e-03,  1.36354418e-01,\n",
       "         4.32324755e-01, -1.86741107e-02, -4.23243239e-02,\n",
       "         3.26252735e-01,  1.42503195e-01, -2.66959730e-02,\n",
       "        -7.28214980e-03, -1.27318282e-01, -2.82471398e-02,\n",
       "         4.17776919e-01,  6.15030482e-02,  8.79438169e-02,\n",
       "        -2.09253684e-01, -1.32348749e-02,  0.00000000e+00,\n",
       "        -2.46317767e-01, -1.67742783e-01,  5.09384233e-01,\n",
       "         2.05390457e-01, -3.53555553e-01, -3.27821999e-01,\n",
       "         0.00000000e+00,  1.72710879e-03,  1.00514877e-02,\n",
       "         5.42662922e-01,  1.55735743e-01,  1.20687836e-01,\n",
       "         2.28308526e-01, -1.37326346e-01,  5.06837073e-03,\n",
       "         2.75167460e-02,  6.32790492e-03,  2.41998591e-01,\n",
       "        -3.61052018e-01, -2.70264099e-01,  9.45677545e-02,\n",
       "        -2.27996731e-02, -6.70730662e-03, -4.11814444e-02,\n",
       "        -2.48844629e-03, -2.43367190e-01,  7.36349036e-02,\n",
       "         1.92535294e-01, -2.43672344e-01, -1.12866185e-01,\n",
       "         3.74949513e-02],\n",
       "       [ 0.00000000e+00, -6.93543893e-02, -9.64850000e-02,\n",
       "         1.09463484e-01, -8.71591677e-02, -3.12219762e-01,\n",
       "        -3.19635458e-02, -3.16491469e-02, -3.89059911e-02,\n",
       "         8.86544252e-02,  1.22679446e-01,  2.62410846e-02,\n",
       "        -8.20330210e-02, -1.77611169e-02,  8.72051744e-02,\n",
       "        -1.12873758e-02, -1.15690499e-02,  1.03385326e-01,\n",
       "         3.48051239e-01,  7.58590316e-02,  1.21390825e-01,\n",
       "         6.31135274e-01,  8.45629501e-02, -1.66131162e-01,\n",
       "         3.36202193e-03, -1.55087595e-01,  2.52160989e-01,\n",
       "         3.59410520e-01,  2.19290822e-01,  3.84811223e-01,\n",
       "         1.01007893e-01, -5.78301563e-02,  0.00000000e+00,\n",
       "        -3.03240767e-01, -1.24030953e-01,  1.89645004e-01,\n",
       "        -4.94323277e-01,  3.69887605e-02,  1.10604532e-01,\n",
       "         0.00000000e+00,  6.30797171e-02,  7.13035521e-02,\n",
       "        -5.99074349e-01, -3.68678218e-01, -2.13507082e-01,\n",
       "        -7.32380207e-02, -2.89285618e-02, -2.99337558e-02,\n",
       "         9.17254593e-03,  1.14603725e-01, -1.81589895e-01,\n",
       "        -1.25638185e-01, -1.51667145e-01, -2.83538921e-01,\n",
       "         1.16404900e-01,  3.76495298e-02,  5.02786916e-03,\n",
       "        -5.27169418e-02, -8.80550031e-02, -5.97427699e-02,\n",
       "         1.14829397e-01, -3.50403611e-02,  6.56458608e-02,\n",
       "        -1.37121814e-01]])"
      ]
     },
     "execution_count": 54,
     "metadata": {},
     "output_type": "execute_result"
    }
   ],
   "source": [
    "model.coef_"
   ]
  },
  {
   "cell_type": "code",
   "execution_count": 55,
   "metadata": {},
   "outputs": [
    {
     "data": {
      "text/plain": [
       "(10, 64)"
      ]
     },
     "execution_count": 55,
     "metadata": {},
     "output_type": "execute_result"
    }
   ],
   "source": [
    "model.coef_.shape"
   ]
  },
  {
   "cell_type": "markdown",
   "metadata": {},
   "source": [
    "## K-Nearest Neighbor (KNN)"
   ]
  },
  {
   "cell_type": "code",
   "execution_count": 56,
   "metadata": {},
   "outputs": [
    {
     "name": "stdout",
     "output_type": "stream",
     "text": [
      "14\n",
      "14\n",
      "14\n"
     ]
    }
   ],
   "source": [
    "# First Feature\n",
    "weather=['Sunny','Sunny','Overcast','Rainy','Rainy','Rainy','Overcast','Sunny','Sunny',\n",
    "'Rainy','Sunny','Overcast','Overcast','Rainy']\n",
    "print(len(weather))\n",
    "\n",
    "# Second Feature\n",
    "temp=['Hot','Hot','Hot','Mild','Cool','Cool','Cool','Mild','Cool','Mild','Mild','Mild','Hot','Mild']\n",
    "print(len(temp))\n",
    "\n",
    "# Label or target varible\n",
    "play=['No','No','Yes','Yes','Yes','No','Yes','No','Yes','Yes','Yes','Yes','Yes','No']\n",
    "print(len(play))"
   ]
  },
  {
   "cell_type": "code",
   "execution_count": 60,
   "metadata": {},
   "outputs": [
    {
     "name": "stdout",
     "output_type": "stream",
     "text": [
      "[2 2 0 1 1 1 0 2 2 1 2 0 0 1]\n"
     ]
    }
   ],
   "source": [
    "encoder = LabelEncoder()\n",
    "enc_weather = encoder.fit_transform(weather)\n",
    "print(enc_weather)"
   ]
  },
  {
   "cell_type": "code",
   "execution_count": 63,
   "metadata": {},
   "outputs": [
    {
     "name": "stdout",
     "output_type": "stream",
     "text": [
      "[1 1 1 2 0 0 0 2 0 2 2 2 1 2]\n"
     ]
    }
   ],
   "source": [
    "enc_temp = encoder.fit_transform(temp)\n",
    "print(enc_temp)"
   ]
  },
  {
   "cell_type": "code",
   "execution_count": 70,
   "metadata": {},
   "outputs": [
    {
     "name": "stdout",
     "output_type": "stream",
     "text": [
      "[0 0 1 1 1 0 1 0 1 1 1 1 1 0]\n"
     ]
    }
   ],
   "source": [
    "label = encoder.fit_transform(play)\n",
    "print(label)"
   ]
  },
  {
   "cell_type": "code",
   "execution_count": 64,
   "metadata": {},
   "outputs": [
    {
     "name": "stdout",
     "output_type": "stream",
     "text": [
      "[(2, 1), (2, 1), (0, 1), (1, 2), (1, 0), (1, 0), (0, 0), (2, 2), (2, 0), (1, 2), (2, 2), (0, 2), (0, 1), (1, 2)]\n"
     ]
    }
   ],
   "source": [
    "features = list(zip(enc_weather, enc_temp))\n",
    "print(features)"
   ]
  },
  {
   "cell_type": "code",
   "execution_count": 68,
   "metadata": {},
   "outputs": [
    {
     "data": {
      "text/plain": [
       "KNeighborsClassifier(n_neighbors=3)"
      ]
     },
     "execution_count": 68,
     "metadata": {},
     "output_type": "execute_result"
    }
   ],
   "source": [
    "model = KNeighborsClassifier(n_neighbors=3)\n",
    "model.fit(features, label)"
   ]
  },
  {
   "cell_type": "code",
   "execution_count": 74,
   "metadata": {},
   "outputs": [
    {
     "name": "stdout",
     "output_type": "stream",
     "text": [
      "[1]\n"
     ]
    }
   ],
   "source": [
    "print(model.predict([[0, 2]]))"
   ]
  },
  {
   "cell_type": "code",
   "execution_count": 76,
   "metadata": {},
   "outputs": [],
   "source": [
    "wine = load_wine()"
   ]
  },
  {
   "cell_type": "code",
   "execution_count": 78,
   "metadata": {},
   "outputs": [
    {
     "data": {
      "text/plain": [
       "['alcohol',\n",
       " 'malic_acid',\n",
       " 'ash',\n",
       " 'alcalinity_of_ash',\n",
       " 'magnesium',\n",
       " 'total_phenols',\n",
       " 'flavanoids',\n",
       " 'nonflavanoid_phenols',\n",
       " 'proanthocyanins',\n",
       " 'color_intensity',\n",
       " 'hue',\n",
       " 'od280/od315_of_diluted_wines',\n",
       " 'proline']"
      ]
     },
     "execution_count": 78,
     "metadata": {},
     "output_type": "execute_result"
    }
   ],
   "source": [
    "wine.feature_names"
   ]
  },
  {
   "cell_type": "code",
   "execution_count": 79,
   "metadata": {},
   "outputs": [
    {
     "data": {
      "text/plain": [
       "array(['class_0', 'class_1', 'class_2'], dtype='<U7')"
      ]
     },
     "execution_count": 79,
     "metadata": {},
     "output_type": "execute_result"
    }
   ],
   "source": [
    "wine.target_names"
   ]
  },
  {
   "cell_type": "code",
   "execution_count": 80,
   "metadata": {},
   "outputs": [
    {
     "name": "stdout",
     "output_type": "stream",
     "text": [
      "Training Set Shape: (124, 13)\n",
      "Test Set Shape: (54, 13)\n"
     ]
    }
   ],
   "source": [
    "X_train, X_test, y_train, y_test = train_test_split(wine.data, wine.target, test_size=.3, random_state=111)\n",
    "print('Training Set Shape:', X_train.shape)\n",
    "print('Test Set Shape:', X_test.shape)"
   ]
  },
  {
   "cell_type": "code",
   "execution_count": 87,
   "metadata": {},
   "outputs": [
    {
     "data": {
      "image/png": "[encoded data removed]",
      "text/plain": [
       "<Figure size 864x432 with 1 Axes>"
      ]
     },
     "metadata": {
      "needs_background": "light"
     },
     "output_type": "display_data"
    },
    {
     "name": "stdout",
     "output_type": "stream",
     "text": [
      "7\n"
     ]
    }
   ],
   "source": [
    "error=[]\n",
    "\n",
    "for k in range (1, 40):\n",
    "    knn = KNeighborsClassifier(n_neighbors=k)\n",
    "    knn.fit(X_train, y_train)\n",
    "    pred = knn.predict(X_test)\n",
    "    err = np.mean(y_test != pred)\n",
    "    error.append(err)\n",
    "    \n",
    "plt.figure(figsize=(12, 6))\n",
    "plt.plot(range(1, 40), error, color='red', linestyle='dashed',\n",
    "          marker='o', markerfacecolor='blue', markersize = 10)\n",
    "plt.title('Error Rate for Different K')\n",
    "plt.xlabel('K')\n",
    "plt.ylabel('Error')\n",
    "plt.show()\n",
    "\n",
    "print(np.argmin(error))"
   ]
  },
  {
   "cell_type": "code",
   "execution_count": 86,
   "metadata": {},
   "outputs": [
    {
     "name": "stdout",
     "output_type": "stream",
     "text": [
      "              precision    recall  f1-score   support\n",
      "\n",
      "           0       0.94      0.94      0.94        17\n",
      "           1       0.74      0.77      0.76        22\n",
      "           2       0.64      0.60      0.62        15\n",
      "\n",
      "    accuracy                           0.78        54\n",
      "   macro avg       0.77      0.77      0.77        54\n",
      "weighted avg       0.78      0.78      0.78        54\n",
      "\n"
     ]
    }
   ],
   "source": [
    "knn = KNeighborsClassifier(n_neighbors=8)\n",
    "knn.fit(X_train, y_train)\n",
    "prediction = knn.predict(X_test)\n",
    "print(classification_report(y_test, prediction))"
   ]
  }
 ],
 "metadata": {
  "kernelspec": {
   "display_name": "Python 3",
   "language": "python",
   "name": "python3"
  },
  "language_info": {
   "codemirror_mode": {
    "name": "ipython",
    "version": 3
   },
   "file_extension": ".py",
   "mimetype": "text/x-python",
   "name": "python",
   "nbconvert_exporter": "python",
   "pygments_lexer": "ipython3",
   "version": "3.8.5"
  }
 },
 "nbformat": 4,
 "nbformat_minor": 4
}
