{
 "cells": [
  {
   "cell_type": "code",
   "execution_count": 2,
   "metadata": {},
   "outputs": [],
   "source": [
    "import math\n",
    "import statistics\n",
    "\n",
    "import numpy as np\n",
    "import scipy.stats\n",
    "import pandas as pd"
   ]
  },
  {
   "cell_type": "code",
   "execution_count": 3,
   "metadata": {},
   "outputs": [
    {
     "name": "stdout",
     "output_type": "stream",
     "text": [
      "NumPy Version: 1.19.1\n",
      "SciPy Version: 1.5.0\n",
      "Pandas Version: 1.1.2\n"
     ]
    }
   ],
   "source": [
    "print('NumPy Version:', np.__version__)\n",
    "print('SciPy Version:', scipy.__version__)\n",
    "print('Pandas Version:', pd.__version__)"
   ]
  },
  {
   "cell_type": "code",
   "execution_count": 41,
   "metadata": {},
   "outputs": [
    {
     "name": "stdout",
     "output_type": "stream",
     "text": [
      "[8.0, 1, 2.5, 4, 28.0] 5\n",
      "[8.0, 1, 2.5, nan, 4, 28.0] 6\n"
     ]
    }
   ],
   "source": [
    "x=[8.0, 1, 2.5, 4, 28.0]\n",
    "x_with_nan=[8.0, 1, 2.5, math.nan, 4, 28.0]\n",
    "print(x, len(x))\n",
    "print(x_with_nan, len(x_with_nan))"
   ]
  },
  {
   "cell_type": "code",
   "execution_count": 9,
   "metadata": {},
   "outputs": [
    {
     "name": "stdout",
     "output_type": "stream",
     "text": [
      "[ 8.   1.   2.5  4.  28. ]\n",
      "-----\n",
      "[ 8.   1.   2.5  nan  4.  28. ]\n",
      "-----\n",
      "0     8.0\n",
      "1     1.0\n",
      "2     2.5\n",
      "3     4.0\n",
      "4    28.0\n",
      "dtype: float64\n",
      "-----\n",
      "0     8.0\n",
      "1     1.0\n",
      "2     2.5\n",
      "3     NaN\n",
      "4     4.0\n",
      "5    28.0\n",
      "dtype: float64\n"
     ]
    }
   ],
   "source": [
    "y, y_with_nan=np.array(x), np.array(x_with_nan)\n",
    "z, z_with_nan=pd.Series(x), pd.Series(x_with_nan)\n",
    "print(y)\n",
    "print('-----')\n",
    "print(y_with_nan)\n",
    "print('-----')\n",
    "print(z)\n",
    "print('-----')\n",
    "print(z_with_nan)"
   ]
  },
  {
   "cell_type": "markdown",
   "metadata": {},
   "source": [
    "## Measures of Central Tendency"
   ]
  },
  {
   "cell_type": "markdown",
   "metadata": {},
   "source": [
    "### Mean"
   ]
  },
  {
   "cell_type": "code",
   "execution_count": 10,
   "metadata": {},
   "outputs": [
    {
     "name": "stdout",
     "output_type": "stream",
     "text": [
      "x: [8.0, 1, 2.5, 4, 28.0]\n",
      "Mean Native: 8.7\n"
     ]
    }
   ],
   "source": [
    "print('x:', x)\n",
    "mean_native=sum(x)/len(x)\n",
    "print('Mean Native:', mean_native)"
   ]
  },
  {
   "cell_type": "code",
   "execution_count": 11,
   "metadata": {},
   "outputs": [
    {
     "name": "stdout",
     "output_type": "stream",
     "text": [
      "x: [8.0, 1, 2.5, 4, 28.0]\n",
      "Mean Native: 8.7\n",
      "Mean Statistics: 8.7\n"
     ]
    }
   ],
   "source": [
    "print('x:', x)\n",
    "mean_native=sum(x)/len(x)\n",
    "print('Mean Native:', mean_native)\n",
    "mean_stats=statistics.mean(x)\n",
    "print('Mean Statistics:', mean_stats)"
   ]
  },
  {
   "cell_type": "code",
   "execution_count": 12,
   "metadata": {},
   "outputs": [
    {
     "name": "stdout",
     "output_type": "stream",
     "text": [
      "X With Nan: [8.0, 1, 2.5, nan, 4, 28.0]\n",
      "Mean With Mean Native: nan\n"
     ]
    }
   ],
   "source": [
    "print('X With Nan:', x_with_nan)\n",
    "mean_with_nan_native=sum(x_with_nan)/len(x_with_nan)\n",
    "print('Mean With Mean Native:', mean_with_nan_native)"
   ]
  },
  {
   "cell_type": "code",
   "execution_count": 14,
   "metadata": {},
   "outputs": [
    {
     "name": "stdout",
     "output_type": "stream",
     "text": [
      "X With Nan: [8.0, 1, 2.5, nan, 4, 28.0]\n",
      "Mean With Mean Native: nan\n",
      "Mean With Mean Statistics: nan\n"
     ]
    }
   ],
   "source": [
    "print('X With Nan:', x_with_nan)\n",
    "mean_with_nan_native=sum(x_with_nan)/len(x_with_nan)\n",
    "print('Mean With Mean Native:', mean_with_nan_native)\n",
    "mean_with_nan_stats=statistics.mean(x_with_nan)\n",
    "print('Mean With Mean Statistics:', mean_with_nan_stats)"
   ]
  },
  {
   "cell_type": "code",
   "execution_count": 16,
   "metadata": {},
   "outputs": [
    {
     "name": "stdout",
     "output_type": "stream",
     "text": [
      "X With Nan: [8.0, 1, 2.5, nan, 4, 28.0]\n",
      "Mean With Mean Native: nan\n",
      "Mean With Mean Statistics: nan\n",
      "Mean With Nan Numpy: nan\n"
     ]
    }
   ],
   "source": [
    "print('X With Nan:', x_with_nan)\n",
    "mean_with_nan_native=sum(x_with_nan)/len(x_with_nan)\n",
    "print('Mean With Mean Native:', mean_with_nan_native)\n",
    "mean_with_nan_stats=statistics.mean(x_with_nan)\n",
    "print('Mean With Mean Statistics:', mean_with_nan_stats)\n",
    "mean_with_nan_np=np.mean(y_with_nan) #bisa juga di tulis y_with_nan_mean()\n",
    "print('Mean With Nan Numpy:', mean_with_nan_np)"
   ]
  },
  {
   "cell_type": "code",
   "execution_count": 21,
   "metadata": {},
   "outputs": [
    {
     "name": "stdout",
     "output_type": "stream",
     "text": [
      "Mean Ignoring Nan Numpy: 8.7\n"
     ]
    }
   ],
   "source": [
    "mean_ignoring_nan_np=np.nanmean(x_with_nan)\n",
    "print('Mean Ignoring Nan Numpy:',mean_ignoring_nan_np)"
   ]
  },
  {
   "cell_type": "code",
   "execution_count": 23,
   "metadata": {
    "scrolled": true
   },
   "outputs": [
    {
     "data": {
      "text/plain": [
       "(8.7, nan)"
      ]
     },
     "execution_count": 23,
     "metadata": {},
     "output_type": "execute_result"
    }
   ],
   "source": [
    "z_with_nan.mean(), z_with_nan.mean(skipna=(False))"
   ]
  },
  {
   "cell_type": "code",
   "execution_count": null,
   "metadata": {},
   "outputs": [],
   "source": [
    "arr=[2, 2, 4, 4, 4, 4, 4, 8, 8, 8]\n",
    "print(arr, len(arr))\n",
    "print('Mean:', np.mean(arr))\n",
    "print('Weighted Mean:', 0.2*2 + 0.5*4 + 0.3*8)"
   ]
  },
  {
   "cell_type": "code",
   "execution_count": 28,
   "metadata": {},
   "outputs": [
    {
     "name": "stdout",
     "output_type": "stream",
     "text": [
      "Weighted Mean: 3.2352941176470584\n"
     ]
    }
   ],
   "source": [
    "arr_x=[8., 1, 2.5, 4, 28.]\n",
    "arr_w=[.1, .2, .3, .25]\n",
    "print(\n",
    "    'Weighted Mean:',\n",
    "    sum(w*x for x, w in zip(arr_x, arr_w))/sum(arr_w)\n",
    ")"
   ]
  },
  {
   "cell_type": "code",
   "execution_count": 29,
   "metadata": {},
   "outputs": [
    {
     "name": "stdout",
     "output_type": "stream",
     "text": [
      "Weighted Mean: 3.2352941176470584\n"
     ]
    }
   ],
   "source": [
    "arr_x=[8., 1, 2.5, 4, 28.]\n",
    "arr_w=[.1, .2, .3, .25]\n",
    "print(\n",
    "    'Weighted Mean:',\n",
    "    sum(x*w for x, w in zip(arr_x, arr_w))/sum(arr_w)\n",
    ")"
   ]
  },
  {
   "cell_type": "code",
   "execution_count": 35,
   "metadata": {},
   "outputs": [
    {
     "name": "stdout",
     "output_type": "stream",
     "text": [
      "Sum of the Weight: 0.8500000000000001\n",
      "Weighted Mean: 3.2352941176470584\n"
     ]
    }
   ],
   "source": [
    "arr_x=[8., 1, 2.5, 4,]\n",
    "arr_w=[.1, .2, .3, .25, ]\n",
    "print('Sum of the Weight:', sum(arr_w))\n",
    "print(\n",
    "    'Weighted Mean:',\n",
    "    sum(w*x for x, w in zip(arr_x, arr_w))/sum(arr_w)\n",
    ")"
   ]
  },
  {
   "cell_type": "code",
   "execution_count": 36,
   "metadata": {},
   "outputs": [
    {
     "data": {
      "text/plain": [
       "3.2352941176470584"
      ]
     },
     "execution_count": 36,
     "metadata": {},
     "output_type": "execute_result"
    }
   ],
   "source": [
    "np_x, np_w=np.array(arr_x), np.array(arr_w)\n",
    "np.average(np_x, weights=np_w)"
   ]
  },
  {
   "cell_type": "code",
   "execution_count": 43,
   "metadata": {},
   "outputs": [
    {
     "name": "stdout",
     "output_type": "stream",
     "text": [
      "[8.0, 1, 2.5, 4, 28.0, 100, 100]\n"
     ]
    }
   ],
   "source": [
    "x += [100]\n",
    "print(x)"
   ]
  },
  {
   "cell_type": "code",
   "execution_count": 45,
   "metadata": {},
   "outputs": [
    {
     "name": "stdout",
     "output_type": "stream",
     "text": [
      "[8.0, 1, 2.5, 4, 28.0, 100, 100]\n",
      "Arithmetic Mean: 34.785714285714285\n",
      "Harmonic Mean: 3.8236441669918064\n"
     ]
    }
   ],
   "source": [
    "print(x)\n",
    "print('Arithmetic Mean:', sum(x)/len(x))\n",
    "print('Harmonic Mean:', len(x)/sum(1/i for i in x))"
   ]
  },
  {
   "cell_type": "code",
   "execution_count": 47,
   "metadata": {},
   "outputs": [
    {
     "data": {
      "text/plain": [
       "3.8236441669918064"
      ]
     },
     "execution_count": 47,
     "metadata": {},
     "output_type": "execute_result"
    }
   ],
   "source": [
    "scipy.stats.hmean(x)"
   ]
  },
  {
   "cell_type": "code",
   "execution_count": 48,
   "metadata": {},
   "outputs": [
    {
     "name": "stdout",
     "output_type": "stream",
     "text": [
      "11.221099960393236\n"
     ]
    }
   ],
   "source": [
    "gmean=1\n",
    "for item in x:\n",
    "    gmean *= item\n",
    "gmean=gmean**(1/len(x))\n",
    "print(gmean)"
   ]
  },
  {
   "cell_type": "code",
   "execution_count": 49,
   "metadata": {},
   "outputs": [
    {
     "name": "stdout",
     "output_type": "stream",
     "text": [
      "11.221099960393236\n",
      "11.221099960393238\n"
     ]
    }
   ],
   "source": [
    "gmean=1\n",
    "for item in x:\n",
    "    gmean *= item\n",
    "gmean=gmean**(1/len(x))\n",
    "print(gmean)\n",
    "print(scipy.stats.gmean(x))"
   ]
  },
  {
   "cell_type": "markdown",
   "metadata": {},
   "source": [
    "### Median"
   ]
  },
  {
   "cell_type": "code",
   "execution_count": 51,
   "metadata": {},
   "outputs": [
    {
     "name": "stdout",
     "output_type": "stream",
     "text": [
      "[8.0, 1, 2.5, 4, 28.0, 100, 100] 7 [1, 2.5, 4, 8.0, 28.0, 100, 100]\n",
      "Median NumPy: 8.0\n",
      "-----\n",
      "Median Native: 8.0\n"
     ]
    }
   ],
   "source": [
    "print(x, len(x), sorted(x))\n",
    "print('Median NumPy:', np.median(x))\n",
    "print('-----')\n",
    "if len(x)%2:\n",
    "    med=sorted(x)[round(0.5*(len(x)-1))]\n",
    "else:\n",
    "    ordered_x, index = sorted(x), round(0.5*len(x))\n",
    "    med=0.5*(ordered_x[index-1]+ordered_x[index])\n",
    "print('Median Native:', med)"
   ]
  },
  {
   "cell_type": "code",
   "execution_count": 52,
   "metadata": {},
   "outputs": [
    {
     "name": "stdout",
     "output_type": "stream",
     "text": [
      "[8.0, 1, 2.5, 4, 28.0, 100, 100, 1000] 8 [1, 2.5, 4, 8.0, 28.0, 100, 100, 1000]\n",
      "Median NumPy: 18.0\n",
      "-----\n",
      "Median Native: 18.0\n"
     ]
    }
   ],
   "source": [
    "x += [1000]\n",
    "print(x, len(x), sorted(x))\n",
    "print('Median NumPy:', np.median(x))\n",
    "print('-----')\n",
    "if len(x)%2:\n",
    "    med=sorted(x)[round(0.5*(len(x)-1))]\n",
    "else:\n",
    "    ordered_x, index = sorted(x), round(0.5*len(x))\n",
    "    med=0.5*(ordered_x[index-1]+ordered_x[index])\n",
    "print('Median Native:', med)"
   ]
  },
  {
   "cell_type": "code",
   "execution_count": 54,
   "metadata": {},
   "outputs": [
    {
     "data": {
      "text/plain": [
       "(18.0, 28.0, 8.0)"
      ]
     },
     "execution_count": 54,
     "metadata": {},
     "output_type": "execute_result"
    }
   ],
   "source": [
    "statistics.median(x), statistics.median_high(x), statistics.median_low(x)"
   ]
  },
  {
   "cell_type": "code",
   "execution_count": 55,
   "metadata": {},
   "outputs": [
    {
     "data": {
      "text/plain": [
       "(8.0, 8.0, 8.0)"
      ]
     },
     "execution_count": 55,
     "metadata": {},
     "output_type": "execute_result"
    }
   ],
   "source": [
    "statistics.median(x[:-1]), statistics.median_high(x[:-1]), statistics.median_low(x[:-1])"
   ]
  },
  {
   "cell_type": "code",
   "execution_count": 59,
   "metadata": {},
   "outputs": [
    {
     "data": {
      "text/plain": [
       "([1, 2.5, 4, 8.0, nan, 28.0], 6.0, 4, 8.0)"
      ]
     },
     "execution_count": 59,
     "metadata": {},
     "output_type": "execute_result"
    }
   ],
   "source": [
    "sorted(x_with_nan), statistics.median(x_with_nan), statistics.median_low(x_with_nan), statistics.median_high(x_with_nan)"
   ]
  },
  {
   "cell_type": "code",
   "execution_count": 61,
   "metadata": {},
   "outputs": [
    {
     "name": "stdout",
     "output_type": "stream",
     "text": [
      "0     8.0\n",
      "1     1.0\n",
      "2     2.5\n",
      "3     4.0\n",
      "4    28.0\n",
      "dtype: float64\n",
      "-----\n",
      "4.0\n",
      "-----\n",
      "1     1.0\n",
      "2     2.5\n",
      "4     4.0\n",
      "0     8.0\n",
      "5    28.0\n",
      "3     NaN\n",
      "dtype: float64\n",
      "-----\n",
      "4.0\n"
     ]
    }
   ],
   "source": [
    "print(z)\n",
    "print('-----')\n",
    "print(z.median())\n",
    "print('-----')\n",
    "print(z_with_nan.sort_values())\n",
    "print('-----')\n",
    "print(z_with_nan.median())"
   ]
  },
  {
   "cell_type": "code",
   "execution_count": 62,
   "metadata": {},
   "outputs": [
    {
     "name": "stdout",
     "output_type": "stream",
     "text": [
      "0     8.0\n",
      "1     1.0\n",
      "2     2.5\n",
      "3     4.0\n",
      "4    28.0\n",
      "dtype: float64\n",
      "-----\n",
      "4.0\n",
      "-----\n",
      "1     1.0\n",
      "2     2.5\n",
      "4     4.0\n",
      "0     8.0\n",
      "5    28.0\n",
      "3     NaN\n",
      "dtype: float64\n",
      "-----\n",
      "8.7\n"
     ]
    }
   ],
   "source": [
    "print(z)\n",
    "print('-----')\n",
    "print(z.median())\n",
    "print('-----')\n",
    "print(z_with_nan.sort_values())\n",
    "print('-----')\n",
    "print(z_with_nan.mean())"
   ]
  },
  {
   "cell_type": "markdown",
   "metadata": {},
   "source": [
    "### Mode"
   ]
  },
  {
   "cell_type": "code",
   "execution_count": 70,
   "metadata": {},
   "outputs": [],
   "source": [
    "x += [1000]"
   ]
  },
  {
   "cell_type": "code",
   "execution_count": 71,
   "metadata": {},
   "outputs": [
    {
     "name": "stdout",
     "output_type": "stream",
     "text": [
      "[8.0, 1, 2.5, 4, 28.0, 100, 100, 1000, 1000]\n",
      "[1, 1, 1, 1, 1, 2, 2, 2, 2]\n"
     ]
    }
   ],
   "source": [
    "print(x)\n",
    "print ([x.count (i) for i in x])"
   ]
  },
  {
   "cell_type": "code",
   "execution_count": 72,
   "metadata": {},
   "outputs": [
    {
     "data": {
      "text/plain": [
       "ModeResult(mode=array([100.]), count=array([2]))"
      ]
     },
     "execution_count": 72,
     "metadata": {},
     "output_type": "execute_result"
    }
   ],
   "source": [
    "scipy.stats.mode(x)"
   ]
  },
  {
   "cell_type": "code",
   "execution_count": 66,
   "metadata": {},
   "outputs": [
    {
     "data": {
      "text/plain": [
       "ModeResult(mode=array([100.]), count=array([2]))"
      ]
     },
     "execution_count": 66,
     "metadata": {},
     "output_type": "execute_result"
    }
   ],
   "source": [
    "mode_=scipy.stats.mode(x)\n",
    "mode_"
   ]
  },
  {
   "cell_type": "code",
   "execution_count": 67,
   "metadata": {},
   "outputs": [
    {
     "name": "stdout",
     "output_type": "stream",
     "text": [
      "[100.] [2]\n"
     ]
    }
   ],
   "source": [
    "mode_=scipy.stats.mode(x)\n",
    "print(mode_.mode, mode_.count)"
   ]
  },
  {
   "cell_type": "code",
   "execution_count": 73,
   "metadata": {},
   "outputs": [
    {
     "data": {
      "text/plain": [
       "0     100.0\n",
       "1    1000.0\n",
       "dtype: float64"
      ]
     },
     "execution_count": 73,
     "metadata": {},
     "output_type": "execute_result"
    }
   ],
   "source": [
    "series_x=pd.Series(x)\n",
    "series_x.mode()"
   ]
  },
  {
   "cell_type": "code",
   "execution_count": 69,
   "metadata": {},
   "outputs": [
    {
     "name": "stdout",
     "output_type": "stream",
     "text": [
      "0     8.0\n",
      "1     1.0\n",
      "2     2.5\n",
      "3     4.0\n",
      "4    28.0\n",
      "dtype: float64\n",
      "0     1.0\n",
      "1     2.5\n",
      "2     4.0\n",
      "3     8.0\n",
      "4    28.0\n",
      "dtype: float64\n"
     ]
    }
   ],
   "source": [
    "print(z)\n",
    "print(z.mode())"
   ]
  },
  {
   "cell_type": "markdown",
   "metadata": {},
   "source": [
    "### Variance"
   ]
  },
  {
   "cell_type": "code",
   "execution_count": 75,
   "metadata": {},
   "outputs": [
    {
     "data": {
      "text/plain": [
       "[8.0, 1, 2.5, 4, 28.0, 100, 100, 1000, 1000]"
      ]
     },
     "execution_count": 75,
     "metadata": {},
     "output_type": "execute_result"
    }
   ],
   "source": [
    "x"
   ]
  },
  {
   "cell_type": "code",
   "execution_count": 77,
   "metadata": {},
   "outputs": [
    {
     "name": "stdout",
     "output_type": "stream",
     "text": [
      "249.27777777777777\n",
      "182702.06944444444\n"
     ]
    }
   ],
   "source": [
    "n = len(x)\n",
    "mean_x=sum(x)/len(x)\n",
    "print(mean_x)\n",
    "variance_x=sum((point - mean_x)**2 for point in x)/(n-1)\n",
    "print(variance_x)"
   ]
  },
  {
   "cell_type": "code",
   "execution_count": 84,
   "metadata": {},
   "outputs": [
    {
     "name": "stdout",
     "output_type": "stream",
     "text": [
      "249.27777777777777\n",
      "-----\n",
      "182702.06944444444\n",
      "-----\n",
      "182702.06944444444\n",
      "-----\n",
      "182702.06944444444\n",
      "-----\n",
      "182702.06944444444\n"
     ]
    }
   ],
   "source": [
    "n = len(x)\n",
    "mean_x=sum(x)/len(x)\n",
    "print(mean_x)\n",
    "print('-----')\n",
    "variance_x=sum((point - mean_x)**2 for point in x)/(n-1)\n",
    "print(variance_x)\n",
    "print('-----')\n",
    "print(statistics.variance(x))\n",
    "print('-----')\n",
    "print(np.var(np.array(x), ddof=1))\n",
    "print('-----')\n",
    "print(series_x.var())"
   ]
  },
  {
   "cell_type": "markdown",
   "metadata": {},
   "source": [
    "### Standard Deviation"
   ]
  },
  {
   "cell_type": "code",
   "execution_count": 87,
   "metadata": {},
   "outputs": [
    {
     "name": "stdout",
     "output_type": "stream",
     "text": [
      "Std Native 427.4366262318245\n",
      "Std NumPy: 427.4366262318245\n",
      "Std Statistics: 427.4366262318245\n",
      "Std Pandas Series: 427.4366262318245\n",
      "Std SciPy: 427.4366262318245\n"
     ]
    },
    {
     "name": "stderr",
     "output_type": "stream",
     "text": [
      "<ipython-input-87-186d8bbd02ef>:5: DeprecationWarning: scipy.std is deprecated and will be removed in SciPy 2.0.0, use numpy.std instead\n",
      "  print('Std SciPy:', scipy.std(x, ddof=1))\n"
     ]
    }
   ],
   "source": [
    "print('Std Native', variance_x**0.5)\n",
    "print('Std NumPy:', np.std(x, ddof=1))\n",
    "print('Std Statistics:', statistics.stdev(x))\n",
    "print('Std Pandas Series:', series_x.std())\n",
    "print('Std SciPy:', scipy.std(x, ddof=1))"
   ]
  },
  {
   "cell_type": "markdown",
   "metadata": {},
   "source": [
    "### Skewness"
   ]
  },
  {
   "cell_type": "code",
   "execution_count": 96,
   "metadata": {},
   "outputs": [
    {
     "name": "stdout",
     "output_type": "stream",
     "text": [
      "[8.0, 1, 2.5, 4, 28.0, 100, 100, 1000, 1000]\n",
      "1.5837470893089505\n",
      "1.5837470893089503\n",
      "1.583747089308951\n"
     ]
    }
   ],
   "source": [
    "print(x)\n",
    "n = len(x)\n",
    "mean_x=sum(x)/n\n",
    "variance_x=sum((point - mean_x)**2 for point in x)/(n-1)\n",
    "std_x=variance_x**0.5\n",
    "\n",
    "skew_x=sum((item-mean_x)**3 for item in x)*n/((n-1)*(n-2)*std_x**3)\n",
    "print(skew_x)\n",
    "print(scipy.stats.skew(x, bias=False))\n",
    "print(series_x.skew())"
   ]
  },
  {
   "cell_type": "markdown",
   "metadata": {},
   "source": [
    "### Percentiles"
   ]
  },
  {
   "cell_type": "code",
   "execution_count": 99,
   "metadata": {},
   "outputs": [
    {
     "name": "stdout",
     "output_type": "stream",
     "text": [
      "Python 3.8.5\n"
     ]
    }
   ],
   "source": [
    "!python --version"
   ]
  },
  {
   "cell_type": "code",
   "execution_count": 115,
   "metadata": {},
   "outputs": [
    {
     "name": "stdout",
     "output_type": "stream",
     "text": [
      "[8.0, 1, 2.5, 4, 28.0, 100, 100, 1000, 1000]\n",
      "[4.0, 28.0, 100.0]\n"
     ]
    }
   ],
   "source": [
    "print(x)\n",
    "print(statistics.quantiles(x, n=4, method='inclusive'))"
   ]
  },
  {
   "cell_type": "code",
   "execution_count": 108,
   "metadata": {},
   "outputs": [
    {
     "name": "stdout",
     "output_type": "stream",
     "text": [
      "[8.0, 1, 2.5, 4, 28.0, 100, 100, 1000, 1000]\n",
      "28.0\n",
      "[  4.  28. 100.]\n",
      "28.0\n",
      "28.0\n"
     ]
    }
   ],
   "source": [
    "print(x)\n",
    "print(np.percentile(x, 50))\n",
    "print(np.percentile(x, [25, 50, 75]))\n",
    "print(np.quantile(x, .5))\n",
    "print(np.median(x))"
   ]
  },
  {
   "cell_type": "code",
   "execution_count": 112,
   "metadata": {},
   "outputs": [
    {
     "name": "stdout",
     "output_type": "stream",
     "text": [
      "[8.0, 1, 2.5, 4, 28.0, 100, 100, 1000, 1000]\n",
      "-----\n",
      "28.0\n",
      "-----\n",
      "[  4.  28. 100.]\n",
      "-----\n",
      "[  4.  28. 100.]\n",
      "-----\n",
      "28.0\n"
     ]
    }
   ],
   "source": [
    "print(x)\n",
    "print('-----')\n",
    "print(np.percentile(x, 50))\n",
    "print('-----')\n",
    "print(np.percentile(x, [25, 50, 75]))\n",
    "print('-----')\n",
    "print(np.quantile(x, [.25, .5, .75]))\n",
    "print('-----')\n",
    "print(np.median(x))"
   ]
  },
  {
   "cell_type": "code",
   "execution_count": 109,
   "metadata": {},
   "outputs": [
    {
     "name": "stdout",
     "output_type": "stream",
     "text": [
      "[8.0, 1, 2.5, nan, 4, 28.0]\n",
      "4.0 4.0\n",
      "4.0\n"
     ]
    }
   ],
   "source": [
    "print(x_with_nan)\n",
    "print(np.nanpercentile(x_with_nan, 50), np.nanmedian(x_with_nan))\n",
    "print(np.nanquantile(x_with_nan, .5))"
   ]
  },
  {
   "cell_type": "code",
   "execution_count": 114,
   "metadata": {},
   "outputs": [
    {
     "name": "stdout",
     "output_type": "stream",
     "text": [
      "4.0 100.0 96.0\n"
     ]
    }
   ],
   "source": [
    "q1=np.quantile(x, .25)\n",
    "q3=np.quantile(x, .75)\n",
    "interquantile=q3-q1\n",
    "print(q1, q3, interquantile)"
   ]
  }
 ],
 "metadata": {
  "kernelspec": {
   "display_name": "Python 3",
   "language": "python",
   "name": "python3"
  },
  "language_info": {
   "codemirror_mode": {
    "name": "ipython",
    "version": 3
   },
   "file_extension": ".py",
   "mimetype": "text/x-python",
   "name": "python",
   "nbconvert_exporter": "python",
   "pygments_lexer": "ipython3",
   "version": "3.8.5"
  }
 },
 "nbformat": 4,
 "nbformat_minor": 4
}
