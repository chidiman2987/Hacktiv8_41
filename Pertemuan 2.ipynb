{
 "cells": [
  {
   "cell_type": "code",
   "execution_count": 6,
   "metadata": {},
   "outputs": [
    {
     "name": "stdout",
     "output_type": "stream",
     "text": [
      "Yes! x < 5\n",
      "Yes! x > y\n"
     ]
    }
   ],
   "source": [
    "x = 0\n",
    "y = 5\n",
    "if x < 5:\n",
    "    print(\"Yes! x < 5\")\n",
    "if y < x:\n",
    "    print(\"No! x < y\")\n",
    "if True:\n",
    "    print (\"Yes! x > y\")\n",
    "if False:\n",
    "    print (\"Skip This!\")"
   ]
  },
  {
   "cell_type": "code",
   "execution_count": 13,
   "metadata": {},
   "outputs": [
    {
     "name": "stdout",
     "output_type": "stream",
     "text": [
      "Yes! x < 5\n",
      "Next!\n",
      "Next!\n",
      "Yes! x > y\n",
      "Stop!\n",
      "Just Stop!\n"
     ]
    }
   ],
   "source": [
    "# Dengan Identasi\n",
    "x = 0\n",
    "y = 5\n",
    "if x < 5:\n",
    "    print(\"Yes! x < 5\")\n",
    "print(\"Next!\")\n",
    "if y < x:\n",
    "    print(\"No! x < y\")\n",
    "print(\"Next!\")\n",
    "if True:\n",
    "    print (\"Yes! x > y\")\n",
    "print(\"Stop!\")\n",
    "if False:\n",
    "    print (\"Skip This!\")\n",
    "print(\"Just Stop!\")"
   ]
  },
  {
   "cell_type": "code",
   "execution_count": 10,
   "metadata": {},
   "outputs": [
    {
     "data": {
      "text/plain": [
       "True"
      ]
     },
     "execution_count": 10,
     "metadata": {},
     "output_type": "execute_result"
    }
   ],
   "source": [
    "bool(10)"
   ]
  },
  {
   "cell_type": "code",
   "execution_count": 15,
   "metadata": {},
   "outputs": [
    {
     "name": "stdout",
     "output_type": "stream",
     "text": [
      "y != 0\n"
     ]
    }
   ],
   "source": [
    "if x:\n",
    "    print(\"x != 0\")\n",
    "# if False:\n",
    "#     print(\"x != 0\")\n",
    "if y:\n",
    "    print(\"y != 0\")\n",
    "# if True:\n",
    "#     print(\"y != 0\")"
   ]
  },
  {
   "cell_type": "code",
   "execution_count": 16,
   "metadata": {},
   "outputs": [],
   "source": [
    "mylist = [\"Foo\", \"Bar\", \"Baz\", \"Quux\"]"
   ]
  },
  {
   "cell_type": "code",
   "execution_count": 18,
   "metadata": {},
   "outputs": [
    {
     "name": "stdout",
     "output_type": "stream",
     "text": [
      "run step-1\n",
      "run step-2\n",
      "done running all steps!\n",
      "continues to other steps outside if\n",
      "continues to other steps outside if\n"
     ]
    }
   ],
   "source": [
    "if \"Foo\" in mylist:\n",
    "    print(\"run step-1\")\n",
    "    print(\"run step-2\")\n",
    "    print(\"done running all steps!\")\n",
    "print(\"continues to other steps outside if\")\n",
    "if \"Qux\" in mylist:\n",
    "    print(\"run step-1\")\n",
    "    print(\"run step-2\")\n",
    "    print(\"done running all steps!\")\n",
    "print(\"continues to other steps outside if\")"
   ]
  },
  {
   "cell_type": "code",
   "execution_count": 21,
   "metadata": {},
   "outputs": [
    {
     "name": "stdout",
     "output_type": "stream",
     "text": [
      "just buy the magazine\n"
     ]
    }
   ],
   "source": [
    "book_price = 5000\n",
    "mag_price = 1000\n",
    "money = 2000\n",
    "\n",
    "if money > book_price:\n",
    "    print(\"let's buy the book\")\n",
    "elif money > mag_price:\n",
    "    print(\"just buy the magazine\")\n",
    "else:\n",
    "    print (\"let's collect more money\")"
   ]
  },
  {
   "cell_type": "code",
   "execution_count": 25,
   "metadata": {},
   "outputs": [
    {
     "name": "stdout",
     "output_type": "stream",
     "text": [
      "10\n",
      "9\n",
      "8\n",
      "7\n",
      "6\n",
      "5\n",
      "4\n",
      "3\n",
      "2\n",
      "1\n",
      "Loopings Stopped\n"
     ]
    }
   ],
   "source": [
    "n = 10\n",
    "while n > 0:\n",
    "    print(n)\n",
    "    n = n-1\n",
    "print(\"Loopings Stopped\")"
   ]
  },
  {
   "cell_type": "code",
   "execution_count": 26,
   "metadata": {},
   "outputs": [
    {
     "name": "stdout",
     "output_type": "stream",
     "text": [
      "1\n",
      "2\n",
      "3\n",
      "4\n",
      "5\n",
      "6\n",
      "7\n",
      "8\n",
      "9\n",
      "10\n",
      "Loopings Stoped\n"
     ]
    }
   ],
   "source": [
    "n = 1\n",
    "while n <= 10:\n",
    "    print(n)\n",
    "    n = n+1\n",
    "print(\"Loopings Stoped\")"
   ]
  },
  {
   "cell_type": "code",
   "execution_count": 28,
   "metadata": {},
   "outputs": [
    {
     "name": "stdout",
     "output_type": "stream",
     "text": [
      "5\n",
      "4\n",
      "3\n",
      "2\n",
      "Looping Stopped\n"
     ]
    }
   ],
   "source": [
    "x = 5\n",
    "while x>0:\n",
    "    print(x)\n",
    "    if x == 2:\n",
    "        break\n",
    "    x = x-1\n",
    "print(\"Looping Stopped\")"
   ]
  },
  {
   "cell_type": "code",
   "execution_count": 29,
   "metadata": {},
   "outputs": [
    {
     "name": "stdout",
     "output_type": "stream",
     "text": [
      "4\n",
      "2\n",
      "1\n",
      "0\n"
     ]
    }
   ],
   "source": [
    "x = 5\n",
    "while x>0:\n",
    "    x = x-1 ##bisa juga tulis X-=1\n",
    "    if x == 3:\n",
    "        continue\n",
    "        print (x)\n",
    "    print(x)"
   ]
  },
  {
   "cell_type": "code",
   "execution_count": 30,
   "metadata": {},
   "outputs": [
    {
     "ename": "SyntaxError",
     "evalue": "invalid syntax (<ipython-input-30-dab17c77597a>, line 7)",
     "output_type": "error",
     "traceback": [
      "\u001b[1;36m  File \u001b[1;32m\"<ipython-input-30-dab17c77597a>\"\u001b[1;36m, line \u001b[1;32m7\u001b[0m\n\u001b[1;33m    else:\u001b[0m\n\u001b[1;37m    ^\u001b[0m\n\u001b[1;31mSyntaxError\u001b[0m\u001b[1;31m:\u001b[0m invalid syntax\n"
     ]
    }
   ],
   "source": [
    "x = 5\n",
    "while x>0:\n",
    "    print(x)\n",
    "    if x == 2:\n",
    "        break''''''''''''''''''';''\n",
    "    x = x-1\n",
    "    else:\n",
    "        print(\"Done Looping\")\n",
    "print(\"Looping Stopped\")"
   ]
  },
  {
   "cell_type": "code",
   "execution_count": 31,
   "metadata": {},
   "outputs": [
    {
     "data": {
      "text/plain": [
       "'C:\\\\Users\\\\Chidi\\\\NotebookHB41'"
      ]
     },
     "execution_count": 31,
     "metadata": {},
     "output_type": "execute_result"
    }
   ],
   "source": [
    "%pwd"
   ]
  }
 ],
 "metadata": {
  "kernelspec": {
   "display_name": "Python 3",
   "language": "python",
   "name": "python3"
  },
  "language_info": {
   "codemirror_mode": {
    "name": "ipython",
    "version": 3
   },
   "file_extension": ".py",
   "mimetype": "text/x-python",
   "name": "python",
   "nbconvert_exporter": "python",
   "pygments_lexer": "ipython3",
   "version": "3.8.3"
  }
 },
 "nbformat": 4,
 "nbformat_minor": 4
}
