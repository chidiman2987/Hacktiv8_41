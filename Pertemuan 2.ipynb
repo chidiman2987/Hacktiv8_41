{
 "cells": [
  {
   "cell_type": "code",
   "execution_count": 14,
   "metadata": {},
   "outputs": [
    {
     "name": "stdout",
     "output_type": "stream",
     "text": [
      "False\n",
      "True\n",
      "True\n",
      "False\n",
      "False\n"
     ]
    }
   ],
   "source": [
    "# Belajar Conditional\n",
    "a = 5\n",
    "b = 10\n",
    "print (a == b)\n",
    "print (a != b)\n",
    "print (a < b)\n",
    "print (a > b)\n",
    "print (a >= b)"
   ]
  },
  {
   "cell_type": "code",
   "execution_count": 23,
   "metadata": {},
   "outputs": [
    {
     "name": "stdout",
     "output_type": "stream",
     "text": [
      "Yes\n",
      "Yes\n",
      "Yes\n",
      "Yes\n",
      "Yes\n"
     ]
    }
   ],
   "source": [
    "# Belajar Statement, Jika Benar akan di muncuullkan. Jika Salah tidak akan muncul\n",
    "x = 1\n",
    "y = 5\n",
    "\n",
    "if x < y:\n",
    "    print (\"Yes\")\n",
    "\n",
    "if y < x:\n",
    "    print (\"Yes\")\n",
    "\n",
    "if x:\n",
    "    print (\"Yes\")\n",
    "    \n",
    "if y:\n",
    "    print (\"Yes\")\n",
    "\n",
    "if 'aul' in 'grault':\n",
    "    print (\"Yes\")\n",
    "\n",
    "if 'quux' in ['foo', 'bar', 'baz', 'quux']:\n",
    "    print (\"Yes\")"
   ]
  },
  {
   "cell_type": "code",
   "execution_count": 27,
   "metadata": {},
   "outputs": [
    {
     "name": "stdout",
     "output_type": "stream",
     "text": [
      "After Conditional\n"
     ]
    }
   ],
   "source": [
    "# Grouping Statement Identation and Blocks\n",
    "if 'foo' in ['bar', 'baz', 'quux']:\n",
    "    print ('Expression was true')\n",
    "    print ('Executing statement in suite')\n",
    "    print ('...')\n",
    "    print ('Done.')\n",
    "print ('After Conditional')"
   ]
  },
  {
   "cell_type": "code",
   "execution_count": 1,
   "metadata": {},
   "outputs": [
    {
     "name": "stdout",
     "output_type": "stream",
     "text": [
      "No! x > y\n",
      "Yes! x > y\n"
     ]
    }
   ],
   "source": [
    "x = 7\n",
    "y = 5\n",
    "if x < y:\n",
    "    print(\"Yes! x < y\")\n",
    "if y < x:\n",
    "    print(\"No! x > y\")\n",
    "if True:\n",
    "    print (\"Yes! x > y\")\n",
    "if False:\n",
    "    print (\"Skip This!\")"
   ]
  },
  {
   "cell_type": "code",
   "execution_count": 9,
   "metadata": {
    "scrolled": true
   },
   "outputs": [
    {
     "name": "stdout",
     "output_type": "stream",
     "text": [
      "Next!\n",
      "Yes! y < x\n",
      "Next!\n",
      "Yes! x > y\n",
      "Stop!\n",
      "Just Stop!\n"
     ]
    }
   ],
   "source": [
    "# Dengan Identasi\n",
    "x = 7\n",
    "y = 5\n",
    "if x < y:\n",
    "    print(\"Yes! x < y\")\n",
    "print(\"Next!\")\n",
    "if y < x:\n",
    "    print(\"Yes! y < x\")\n",
    "print(\"Next!\")\n",
    "if True:\n",
    "    print (\"Yes! x > y\")\n",
    "print(\"Stop!\")\n",
    "if False:\n",
    "    print (\"Skip This!\")\n",
    "print(\"Just Stop!\")"
   ]
  },
  {
   "cell_type": "code",
   "execution_count": 41,
   "metadata": {},
   "outputs": [
    {
     "data": {
      "text/plain": [
       "True"
      ]
     },
     "execution_count": 41,
     "metadata": {},
     "output_type": "execute_result"
    }
   ],
   "source": [
    "bool(10)"
   ]
  },
  {
   "cell_type": "code",
   "execution_count": 15,
   "metadata": {},
   "outputs": [
    {
     "name": "stdout",
     "output_type": "stream",
     "text": [
      "y != 0\n"
     ]
    }
   ],
   "source": [
    "if x:\n",
    "    print(\"x != 0\")\n",
    "# if False:\n",
    "#     print(\"x != 0\")\n",
    "if y:\n",
    "    print(\"y != 0\")\n",
    "# if True:\n",
    "#     print(\"y != 0\")"
   ]
  },
  {
   "cell_type": "code",
   "execution_count": 12,
   "metadata": {},
   "outputs": [],
   "source": [
    "mylist = [\"Foo\", \"Bar\", \"Baz\", \"Quux\"]"
   ]
  },
  {
   "cell_type": "code",
   "execution_count": 15,
   "metadata": {},
   "outputs": [
    {
     "name": "stdout",
     "output_type": "stream",
     "text": [
      "run step-1\n",
      "run step-2\n",
      "done running all steps!\n",
      "continues to other steps outside if\n",
      "continues to other steps outside if\n"
     ]
    }
   ],
   "source": [
    "if \"Foo\" in mylist:\n",
    "    print(\"run step-1\")\n",
    "    print(\"run step-2\")\n",
    "    print(\"done running all steps!\")\n",
    "print(\"continues to other steps outside if\")\n",
    "if \"Qux\" in mylist:\n",
    "    print(\"run step-1\")\n",
    "    print(\"run step-2\")\n",
    "    print(\"done running all steps!\")\n",
    "print(\"continues to other steps outside if\")"
   ]
  },
  {
   "cell_type": "code",
   "execution_count": 17,
   "metadata": {},
   "outputs": [
    {
     "name": "stdout",
     "output_type": "stream",
     "text": [
      "just buy the magazine\n"
     ]
    }
   ],
   "source": [
    "book_price = 5000\n",
    "mag_price = 1000\n",
    "money = 2000\n",
    "\n",
    "if money > book_price:\n",
    "    print(\"let's buy the book\")\n",
    "elif money > mag_price:\n",
    "    print(\"just buy the magazine\")\n",
    "else:\n",
    "    print (\"let's collect more money\")"
   ]
  },
  {
   "cell_type": "code",
   "execution_count": 18,
   "metadata": {},
   "outputs": [
    {
     "name": "stdout",
     "output_type": "stream",
     "text": [
      "just buy the magazine\n"
     ]
    }
   ],
   "source": [
    "book_prc = 5000\n",
    "mag_prc = 1000\n",
    "money = 1000\n",
    "\n",
    "if money >= book_prc:\n",
    "    print(\"let's buy the book\")\n",
    "elif money >= mag_prc:\n",
    "    print(\"just buy the magazine\")\n",
    "else:\n",
    "    print (\"let's collect more money\")"
   ]
  },
  {
   "cell_type": "code",
   "execution_count": 25,
   "metadata": {},
   "outputs": [
    {
     "name": "stdout",
     "output_type": "stream",
     "text": [
      "10\n",
      "9\n",
      "8\n",
      "7\n",
      "6\n",
      "5\n",
      "4\n",
      "3\n",
      "2\n",
      "1\n",
      "Loopings Stopped\n"
     ]
    }
   ],
   "source": [
    "n = 10\n",
    "while n > 0:\n",
    "    print(n)\n",
    "    n = n-1\n",
    "print(\"Loopings Stopped\")"
   ]
  },
  {
   "cell_type": "code",
   "execution_count": 23,
   "metadata": {},
   "outputs": [
    {
     "name": "stdout",
     "output_type": "stream",
     "text": [
      "1\n",
      "2\n",
      "3\n",
      "4\n",
      "5\n",
      "6\n",
      "7\n",
      "8\n",
      "9\n",
      "10\n",
      "Loopings Stoped\n"
     ]
    }
   ],
   "source": [
    "n = 1\n",
    "while n <= 10:\n",
    "    print(n)\n",
    "    n = n+1 #bisa juga ditulis n+=1\n",
    "print(\"Loopings Stoped\")"
   ]
  },
  {
   "cell_type": "code",
   "execution_count": 28,
   "metadata": {},
   "outputs": [
    {
     "name": "stdout",
     "output_type": "stream",
     "text": [
      "5\n",
      "4\n",
      "3\n",
      "2\n",
      "Looping Stopped\n"
     ]
    }
   ],
   "source": [
    "x = 5\n",
    "while x>0:\n",
    "    print(x)\n",
    "    if x == 2:\n",
    "        break\n",
    "    x = x-1\n",
    "print(\"Looping Stopped\")"
   ]
  },
  {
   "cell_type": "code",
   "execution_count": 31,
   "metadata": {},
   "outputs": [
    {
     "name": "stdout",
     "output_type": "stream",
     "text": [
      "4\n",
      "2\n",
      "1\n",
      "0\n"
     ]
    }
   ],
   "source": [
    "x = 5\n",
    "while x>0:\n",
    "    x = x-1 ##bisa juga tulis X-=1\n",
    "    if x == 3:\n",
    "        continue\n",
    "        print (x)\n",
    "    print(x)"
   ]
  },
  {
   "cell_type": "code",
   "execution_count": 42,
   "metadata": {},
   "outputs": [
    {
     "name": "stdout",
     "output_type": "stream",
     "text": [
      "5\n",
      "4\n",
      "3\n",
      "2\n",
      "Looping Stopped\n"
     ]
    }
   ],
   "source": [
    "x = 5\n",
    "while x>0:\n",
    "    print(x)\n",
    "    if x == 2:\n",
    "        break\n",
    "    x-= 1 #bisa juga ditulis x = x-1\n",
    "else:\n",
    "    print(\"Done Looping\")\n",
    "print(\"Looping Stopped\")"
   ]
  },
  {
   "cell_type": "code",
   "execution_count": 43,
   "metadata": {},
   "outputs": [
    {
     "data": {
      "text/plain": [
       "'C:\\\\Users\\\\Chidi-AMD\\\\!Latihan_H841!'"
      ]
     },
     "execution_count": 43,
     "metadata": {},
     "output_type": "execute_result"
    }
   ],
   "source": [
    "%pwd"
   ]
  },
  {
   "cell_type": "code",
   "execution_count": 66,
   "metadata": {},
   "outputs": [
    {
     "name": "stdout",
     "output_type": "stream",
     "text": [
      "Mother\n"
     ]
    }
   ],
   "source": [
    "# Nested Loops\n",
    "age = 65\n",
    "gender = 'F'\n",
    "if age < 18:\n",
    "    if gender  == 'M':\n",
    "        print ('Son')\n",
    "    else:\n",
    "        print ('Daughter')\n",
    "elif age >= 18 and age <= 65:\n",
    "    if gender == 'M':\n",
    "        print ('Father')\n",
    "    else:\n",
    "        print ('Mother')\n",
    "elif age >= 65:\n",
    "    if gender == 'M':\n",
    "        print ('Granfather')\n",
    "    else:\n",
    "        print ('Grandmother')\n",
    "\n",
    "    \n",
    "        "
   ]
  },
  {
   "cell_type": "code",
   "execution_count": 64,
   "metadata": {},
   "outputs": [
    {
     "name": "stdout",
     "output_type": "stream",
     "text": [
      "Foo\n",
      "> Baz\n",
      "> Quux\n",
      "Bar\n",
      "> Baz\n",
      "> Quux\n"
     ]
    }
   ],
   "source": [
    "#Loop di dalam Loop\n",
    "mylist_a = ['Foo', 'Bar']\n",
    "while len(mylist_a):\n",
    "    print(mylist_a.pop(0))\n",
    "    mylist_b = ['Baz', 'Quux']\n",
    "    while len(mylist_b):\n",
    "        print('>', mylist_b.pop(0))\n"
   ]
  },
  {
   "cell_type": "code",
   "execution_count": 67,
   "metadata": {},
   "outputs": [
    {
     "ename": "SyntaxError",
     "evalue": "invalid syntax (<ipython-input-67-073a4a554e3a>, line 1)",
     "output_type": "error",
     "traceback": [
      "\u001b[1;36m  File \u001b[1;32m\"<ipython-input-67-073a4a554e3a>\"\u001b[1;36m, line \u001b[1;32m1\u001b[0m\n\u001b[1;33m    for (i=1; i<=10;i++)\u001b[0m\n\u001b[1;37m          ^\u001b[0m\n\u001b[1;31mSyntaxError\u001b[0m\u001b[1;31m:\u001b[0m invalid syntax\n"
     ]
    }
   ],
   "source": [
    "for (i=1; i<=10;i++)"
   ]
  }
 ],
 "metadata": {
  "kernelspec": {
   "display_name": "Python 3",
   "language": "python",
   "name": "python3"
  },
  "language_info": {
   "codemirror_mode": {
    "name": "ipython",
    "version": 3
   },
   "file_extension": ".py",
   "mimetype": "text/x-python",
   "name": "python",
   "nbconvert_exporter": "python",
   "pygments_lexer": "ipython3",
   "version": "3.8.3"
  }
 },
 "nbformat": 4,
 "nbformat_minor": 4
}
